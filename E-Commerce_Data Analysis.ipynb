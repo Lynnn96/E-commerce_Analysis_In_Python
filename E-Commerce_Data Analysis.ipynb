{
 "cells": [
  {
   "cell_type": "markdown",
   "metadata": {},
   "source": [
    "## 1. Data Importing and Preprocessing"
   ]
  },
  {
   "cell_type": "code",
   "execution_count": 1,
   "metadata": {},
   "outputs": [],
   "source": [
    "import pandas as pd"
   ]
  },
  {
   "cell_type": "code",
   "execution_count": 13,
   "metadata": {},
   "outputs": [],
   "source": [
    "import matplotlib.pyplot as plt"
   ]
  },
  {
   "cell_type": "code",
   "execution_count": 624,
   "metadata": {},
   "outputs": [],
   "source": [
    "import numpy as np"
   ]
  },
  {
   "cell_type": "code",
   "execution_count": 765,
   "metadata": {},
   "outputs": [],
   "source": [
    "data = pd.read_csv(\"Data Analyst_ DATASET.csv\")"
   ]
  },
  {
   "cell_type": "code",
   "execution_count": 21,
   "metadata": {},
   "outputs": [
    {
     "data": {
      "text/plain": [
       "(5000, 7)"
      ]
     },
     "execution_count": 21,
     "metadata": {},
     "output_type": "execute_result"
    }
   ],
   "source": [
    "data.shape"
   ]
  },
  {
   "cell_type": "code",
   "execution_count": 398,
   "metadata": {
    "scrolled": true
   },
   "outputs": [
    {
     "data": {
      "text/plain": [
       "Index(['order_id', 'item_id', 'user_id', 'order_amount', 'total_items',\n",
       "       'payment_method', 'created_at'],\n",
       "      dtype='object')"
      ]
     },
     "execution_count": 398,
     "metadata": {},
     "output_type": "execute_result"
    }
   ],
   "source": [
    "data.columns"
   ]
  },
  {
   "cell_type": "markdown",
   "metadata": {},
   "source": [
    "\n",
    "<font  size=4 color = #5F9EA0> Apart from the information given, we might want to know **item price per order**, so that we can understand the value of products on sales. </font>\n",
    "<font  size=4 color = #5F9EA0> Here, I assume that the 'order amount' only indicates product prices, but not including shipping cost, etc, if this is a case in e-commerce </font>"
   ]
  },
  {
   "cell_type": "code",
   "execution_count": 766,
   "metadata": {},
   "outputs": [],
   "source": [
    "data['item_price'] = data['order_amount']/data['total_items']"
   ]
  },
  {
   "cell_type": "code",
   "execution_count": 474,
   "metadata": {},
   "outputs": [
    {
     "data": {
      "text/plain": [
       "order_id          0\n",
       "item_id           0\n",
       "user_id           0\n",
       "order_amount      0\n",
       "total_items       0\n",
       "payment_method    0\n",
       "created_at        0\n",
       "item_price        0\n",
       "dtype: int64"
      ]
     },
     "execution_count": 474,
     "metadata": {},
     "output_type": "execute_result"
    }
   ],
   "source": [
    "# check for null values\n",
    "data.isnull().sum()"
   ]
  },
  {
   "cell_type": "code",
   "execution_count": 475,
   "metadata": {},
   "outputs": [
    {
     "data": {
      "text/plain": [
       "order_id                  object\n",
       "item_id                   object\n",
       "user_id                   object\n",
       "order_amount               int64\n",
       "total_items                int64\n",
       "payment_method            object\n",
       "created_at        datetime64[ns]\n",
       "item_price               float64\n",
       "dtype: object"
      ]
     },
     "execution_count": 475,
     "metadata": {},
     "output_type": "execute_result"
    }
   ],
   "source": [
    "# check for data types\n",
    "data.dtypes"
   ]
  },
  {
   "cell_type": "code",
   "execution_count": 768,
   "metadata": {},
   "outputs": [],
   "source": [
    "# change data types\n",
    "data = data.astype({'order_id': 'object','item_id':'object','user_id':'object'})\n",
    "data['created_at'] = pd.to_datetime(data['created_at'])"
   ]
  },
  {
   "cell_type": "code",
   "execution_count": 769,
   "metadata": {
    "scrolled": true
   },
   "outputs": [
    {
     "data": {
      "text/plain": [
       "order_id                  object\n",
       "item_id                   object\n",
       "user_id                   object\n",
       "order_amount               int64\n",
       "total_items                int64\n",
       "payment_method            object\n",
       "created_at        datetime64[ns]\n",
       "item_price               float64\n",
       "dtype: object"
      ]
     },
     "execution_count": 769,
     "metadata": {},
     "output_type": "execute_result"
    }
   ],
   "source": [
    "data.dtypes"
   ]
  },
  {
   "cell_type": "markdown",
   "metadata": {},
   "source": [
    "## 1.2 Check and Remove Outliers"
   ]
  },
  {
   "cell_type": "code",
   "execution_count": 749,
   "metadata": {},
   "outputs": [
    {
     "data": {
      "image/png": "[encoded data removed]",
      "text/plain": [
       "<Figure size 432x288 with 1 Axes>"
      ]
     },
     "metadata": {
      "needs_background": "light"
     },
     "output_type": "display_data"
    }
   ],
   "source": [
    "# boxplot to check for outliers\n",
    "plt.boxplot(data['order_amount'])\n",
    "plt.title('Boxplot for Order Amount')\n",
    "plt.show()"
   ]
  },
  {
   "cell_type": "code",
   "execution_count": 750,
   "metadata": {
    "scrolled": true
   },
   "outputs": [
    {
     "data": {
      "image/png": "[encoded data removed]",
      "text/plain": [
       "<Figure size 432x288 with 1 Axes>"
      ]
     },
     "metadata": {
      "needs_background": "light"
     },
     "output_type": "display_data"
    }
   ],
   "source": [
    "plt.boxplot(data['total_items'])\n",
    "plt.title('Boxplot for Order Total Items')\n",
    "plt.show()"
   ]
  },
  {
   "cell_type": "code",
   "execution_count": 751,
   "metadata": {},
   "outputs": [
    {
     "data": {
      "image/png": "[encoded data removed]",
      "text/plain": [
       "<Figure size 432x288 with 1 Axes>"
      ]
     },
     "metadata": {
      "needs_background": "light"
     },
     "output_type": "display_data"
    }
   ],
   "source": [
    "plt.boxplot(data['item_price'])\n",
    "plt.title('Boxplot for Order Item Price')\n",
    "plt.show()"
   ]
  },
  {
   "cell_type": "markdown",
   "metadata": {},
   "source": [
    "<font  size=4 color = #5F9EA0> For both 'order amount' and 'total items' and 'item price', there are outliers </font>"
   ]
  },
  {
   "cell_type": "code",
   "execution_count": 414,
   "metadata": {},
   "outputs": [],
   "source": [
    "# detect extreme outliers\n",
    "def outlier_treatment(datacolumn):\n",
    "    sorted(datacolumn)\n",
    "    Q1,Q3 = np.percentile(datacolumn , [25,75])\n",
    "    IQR = Q3 - Q1\n",
    "    lower_range = Q1 - (3 * IQR)\n",
    "    upper_range = Q3 + (3 * IQR)\n",
    "    return lower_range,upper_range"
   ]
  },
  {
   "cell_type": "code",
   "execution_count": 415,
   "metadata": {
    "scrolled": true
   },
   "outputs": [
    {
     "data": {
      "text/plain": [
       "array([704000,  25725,  51450, 154350,  77175,   1760,   1408, 102900,\n",
       "         1086])"
      ]
     },
     "execution_count": 415,
     "metadata": {},
     "output_type": "execute_result"
    }
   ],
   "source": [
    "# extreme outliers in 'order amount'\n",
    "lower_range,upper_range = outlier_treatment(data.order_amount)\n",
    "data[(data.order_amount < lower_range) | (data.order_amount > upper_range)]['order_amount'].unique()"
   ]
  },
  {
   "cell_type": "code",
   "execution_count": 416,
   "metadata": {},
   "outputs": [
    {
     "data": {
      "text/plain": [
       "array([2000])"
      ]
     },
     "execution_count": 416,
     "metadata": {},
     "output_type": "execute_result"
    }
   ],
   "source": [
    "# extreme outliers in 'total_items'\n",
    "lower_range,upper_range = outlier_treatment(data.total_items)\n",
    "data[(data.total_items < lower_range) | (data.total_items > upper_range)]['total_items'].unique()"
   ]
  },
  {
   "cell_type": "code",
   "execution_count": 518,
   "metadata": {},
   "outputs": [
    {
     "data": {
      "text/plain": [
       "array([  352., 25725.])"
      ]
     },
     "execution_count": 518,
     "metadata": {},
     "output_type": "execute_result"
    }
   ],
   "source": [
    "# extreme outliers in 'item_price'\n",
    "lower_range,upper_range = outlier_treatment(data.item_price)\n",
    "data[(data.item_price < lower_range) | (data.item_price > upper_range)]['item_price'].unique()"
   ]
  },
  {
   "cell_type": "markdown",
   "metadata": {},
   "source": [
    "<font  size=4 color = #5F9EA0> - 9 extreme outliers are detected for 'order amount', out of these 9 outliers, '704000' is too extreme and will have a significant impact on the accuracy and generality of our analysis. </font>\n",
    "\n",
    "<font  size=4 color = #5F9EA0> - 1 extreme outlier is detected for 'total_items', '2000' </font>\n",
    "\n",
    "<font  size=4 color = #5F9EA0> - 1 extreme outlier is detected for 'item_price', '25725' </font>\n",
    "\n",
    "<font  size=4 color = #5F9EA0> - Let us see more detail about thess outliers </font>"
   ]
  },
  {
   "cell_type": "code",
   "execution_count": 483,
   "metadata": {},
   "outputs": [
    {
     "data": {
      "text/html": [
       "<div>\n",
       "<style scoped>\n",
       "    .dataframe tbody tr th:only-of-type {\n",
       "        vertical-align: middle;\n",
       "    }\n",
       "\n",
       "    .dataframe tbody tr th {\n",
       "        vertical-align: top;\n",
       "    }\n",
       "\n",
       "    .dataframe thead th {\n",
       "        text-align: right;\n",
       "    }\n",
       "</style>\n",
       "<table border=\"1\" class=\"dataframe\">\n",
       "  <thead>\n",
       "    <tr style=\"text-align: right;\">\n",
       "      <th></th>\n",
       "      <th>order_id</th>\n",
       "      <th>item_id</th>\n",
       "      <th>user_id</th>\n",
       "      <th>order_amount</th>\n",
       "      <th>total_items</th>\n",
       "      <th>payment_method</th>\n",
       "      <th>created_at</th>\n",
       "      <th>item_price</th>\n",
       "    </tr>\n",
       "  </thead>\n",
       "  <tbody>\n",
       "    <tr>\n",
       "      <th>15</th>\n",
       "      <td>16</td>\n",
       "      <td>42</td>\n",
       "      <td>607</td>\n",
       "      <td>704000</td>\n",
       "      <td>2000</td>\n",
       "      <td>credit_card</td>\n",
       "      <td>2017-03-07 04:00:00</td>\n",
       "      <td>352.0</td>\n",
       "    </tr>\n",
       "    <tr>\n",
       "      <th>60</th>\n",
       "      <td>61</td>\n",
       "      <td>42</td>\n",
       "      <td>607</td>\n",
       "      <td>704000</td>\n",
       "      <td>2000</td>\n",
       "      <td>credit_card</td>\n",
       "      <td>2017-03-04 04:00:00</td>\n",
       "      <td>352.0</td>\n",
       "    </tr>\n",
       "    <tr>\n",
       "      <th>520</th>\n",
       "      <td>521</td>\n",
       "      <td>42</td>\n",
       "      <td>607</td>\n",
       "      <td>704000</td>\n",
       "      <td>2000</td>\n",
       "      <td>credit_card</td>\n",
       "      <td>2017-03-02 04:00:00</td>\n",
       "      <td>352.0</td>\n",
       "    </tr>\n",
       "    <tr>\n",
       "      <th>1104</th>\n",
       "      <td>1105</td>\n",
       "      <td>42</td>\n",
       "      <td>607</td>\n",
       "      <td>704000</td>\n",
       "      <td>2000</td>\n",
       "      <td>credit_card</td>\n",
       "      <td>2017-03-24 04:00:00</td>\n",
       "      <td>352.0</td>\n",
       "    </tr>\n",
       "    <tr>\n",
       "      <th>1362</th>\n",
       "      <td>1363</td>\n",
       "      <td>42</td>\n",
       "      <td>607</td>\n",
       "      <td>704000</td>\n",
       "      <td>2000</td>\n",
       "      <td>credit_card</td>\n",
       "      <td>2017-03-15 04:00:00</td>\n",
       "      <td>352.0</td>\n",
       "    </tr>\n",
       "    <tr>\n",
       "      <th>1436</th>\n",
       "      <td>1437</td>\n",
       "      <td>42</td>\n",
       "      <td>607</td>\n",
       "      <td>704000</td>\n",
       "      <td>2000</td>\n",
       "      <td>credit_card</td>\n",
       "      <td>2017-03-11 04:00:00</td>\n",
       "      <td>352.0</td>\n",
       "    </tr>\n",
       "    <tr>\n",
       "      <th>1562</th>\n",
       "      <td>1563</td>\n",
       "      <td>42</td>\n",
       "      <td>607</td>\n",
       "      <td>704000</td>\n",
       "      <td>2000</td>\n",
       "      <td>credit_card</td>\n",
       "      <td>2017-03-19 04:00:00</td>\n",
       "      <td>352.0</td>\n",
       "    </tr>\n",
       "    <tr>\n",
       "      <th>1602</th>\n",
       "      <td>1603</td>\n",
       "      <td>42</td>\n",
       "      <td>607</td>\n",
       "      <td>704000</td>\n",
       "      <td>2000</td>\n",
       "      <td>credit_card</td>\n",
       "      <td>2017-03-17 04:00:00</td>\n",
       "      <td>352.0</td>\n",
       "    </tr>\n",
       "    <tr>\n",
       "      <th>2153</th>\n",
       "      <td>2154</td>\n",
       "      <td>42</td>\n",
       "      <td>607</td>\n",
       "      <td>704000</td>\n",
       "      <td>2000</td>\n",
       "      <td>credit_card</td>\n",
       "      <td>2017-03-12 04:00:00</td>\n",
       "      <td>352.0</td>\n",
       "    </tr>\n",
       "    <tr>\n",
       "      <th>2297</th>\n",
       "      <td>2298</td>\n",
       "      <td>42</td>\n",
       "      <td>607</td>\n",
       "      <td>704000</td>\n",
       "      <td>2000</td>\n",
       "      <td>credit_card</td>\n",
       "      <td>2017-03-07 04:00:00</td>\n",
       "      <td>352.0</td>\n",
       "    </tr>\n",
       "    <tr>\n",
       "      <th>2835</th>\n",
       "      <td>2836</td>\n",
       "      <td>42</td>\n",
       "      <td>607</td>\n",
       "      <td>704000</td>\n",
       "      <td>2000</td>\n",
       "      <td>credit_card</td>\n",
       "      <td>2017-03-28 04:00:00</td>\n",
       "      <td>352.0</td>\n",
       "    </tr>\n",
       "    <tr>\n",
       "      <th>2969</th>\n",
       "      <td>2970</td>\n",
       "      <td>42</td>\n",
       "      <td>607</td>\n",
       "      <td>704000</td>\n",
       "      <td>2000</td>\n",
       "      <td>credit_card</td>\n",
       "      <td>2017-03-28 04:00:00</td>\n",
       "      <td>352.0</td>\n",
       "    </tr>\n",
       "    <tr>\n",
       "      <th>3332</th>\n",
       "      <td>3333</td>\n",
       "      <td>42</td>\n",
       "      <td>607</td>\n",
       "      <td>704000</td>\n",
       "      <td>2000</td>\n",
       "      <td>credit_card</td>\n",
       "      <td>2017-03-24 04:00:00</td>\n",
       "      <td>352.0</td>\n",
       "    </tr>\n",
       "    <tr>\n",
       "      <th>4056</th>\n",
       "      <td>4057</td>\n",
       "      <td>42</td>\n",
       "      <td>607</td>\n",
       "      <td>704000</td>\n",
       "      <td>2000</td>\n",
       "      <td>credit_card</td>\n",
       "      <td>2017-03-28 04:00:00</td>\n",
       "      <td>352.0</td>\n",
       "    </tr>\n",
       "    <tr>\n",
       "      <th>4646</th>\n",
       "      <td>4647</td>\n",
       "      <td>42</td>\n",
       "      <td>607</td>\n",
       "      <td>704000</td>\n",
       "      <td>2000</td>\n",
       "      <td>credit_card</td>\n",
       "      <td>2017-03-02 04:00:00</td>\n",
       "      <td>352.0</td>\n",
       "    </tr>\n",
       "    <tr>\n",
       "      <th>4868</th>\n",
       "      <td>4869</td>\n",
       "      <td>42</td>\n",
       "      <td>607</td>\n",
       "      <td>704000</td>\n",
       "      <td>2000</td>\n",
       "      <td>credit_card</td>\n",
       "      <td>2017-03-22 04:00:00</td>\n",
       "      <td>352.0</td>\n",
       "    </tr>\n",
       "    <tr>\n",
       "      <th>4882</th>\n",
       "      <td>4883</td>\n",
       "      <td>42</td>\n",
       "      <td>607</td>\n",
       "      <td>704000</td>\n",
       "      <td>2000</td>\n",
       "      <td>credit_card</td>\n",
       "      <td>2017-03-25 04:00:00</td>\n",
       "      <td>352.0</td>\n",
       "    </tr>\n",
       "  </tbody>\n",
       "</table>\n",
       "</div>"
      ],
      "text/plain": [
       "     order_id item_id user_id  order_amount  total_items payment_method  \\\n",
       "15         16      42     607        704000         2000    credit_card   \n",
       "60         61      42     607        704000         2000    credit_card   \n",
       "520       521      42     607        704000         2000    credit_card   \n",
       "1104     1105      42     607        704000         2000    credit_card   \n",
       "1362     1363      42     607        704000         2000    credit_card   \n",
       "1436     1437      42     607        704000         2000    credit_card   \n",
       "1562     1563      42     607        704000         2000    credit_card   \n",
       "1602     1603      42     607        704000         2000    credit_card   \n",
       "2153     2154      42     607        704000         2000    credit_card   \n",
       "2297     2298      42     607        704000         2000    credit_card   \n",
       "2835     2836      42     607        704000         2000    credit_card   \n",
       "2969     2970      42     607        704000         2000    credit_card   \n",
       "3332     3333      42     607        704000         2000    credit_card   \n",
       "4056     4057      42     607        704000         2000    credit_card   \n",
       "4646     4647      42     607        704000         2000    credit_card   \n",
       "4868     4869      42     607        704000         2000    credit_card   \n",
       "4882     4883      42     607        704000         2000    credit_card   \n",
       "\n",
       "              created_at  item_price  \n",
       "15   2017-03-07 04:00:00       352.0  \n",
       "60   2017-03-04 04:00:00       352.0  \n",
       "520  2017-03-02 04:00:00       352.0  \n",
       "1104 2017-03-24 04:00:00       352.0  \n",
       "1362 2017-03-15 04:00:00       352.0  \n",
       "1436 2017-03-11 04:00:00       352.0  \n",
       "1562 2017-03-19 04:00:00       352.0  \n",
       "1602 2017-03-17 04:00:00       352.0  \n",
       "2153 2017-03-12 04:00:00       352.0  \n",
       "2297 2017-03-07 04:00:00       352.0  \n",
       "2835 2017-03-28 04:00:00       352.0  \n",
       "2969 2017-03-28 04:00:00       352.0  \n",
       "3332 2017-03-24 04:00:00       352.0  \n",
       "4056 2017-03-28 04:00:00       352.0  \n",
       "4646 2017-03-02 04:00:00       352.0  \n",
       "4868 2017-03-22 04:00:00       352.0  \n",
       "4882 2017-03-25 04:00:00       352.0  "
      ]
     },
     "execution_count": 483,
     "metadata": {},
     "output_type": "execute_result"
    }
   ],
   "source": [
    "data[data['order_amount'] == 704000]"
   ]
  },
  {
   "cell_type": "code",
   "execution_count": 484,
   "metadata": {
    "scrolled": true
   },
   "outputs": [
    {
     "data": {
      "text/html": [
       "<div>\n",
       "<style scoped>\n",
       "    .dataframe tbody tr th:only-of-type {\n",
       "        vertical-align: middle;\n",
       "    }\n",
       "\n",
       "    .dataframe tbody tr th {\n",
       "        vertical-align: top;\n",
       "    }\n",
       "\n",
       "    .dataframe thead th {\n",
       "        text-align: right;\n",
       "    }\n",
       "</style>\n",
       "<table border=\"1\" class=\"dataframe\">\n",
       "  <thead>\n",
       "    <tr style=\"text-align: right;\">\n",
       "      <th></th>\n",
       "      <th>order_id</th>\n",
       "      <th>item_id</th>\n",
       "      <th>user_id</th>\n",
       "      <th>order_amount</th>\n",
       "      <th>total_items</th>\n",
       "      <th>payment_method</th>\n",
       "      <th>created_at</th>\n",
       "      <th>item_price</th>\n",
       "    </tr>\n",
       "  </thead>\n",
       "  <tbody>\n",
       "    <tr>\n",
       "      <th>15</th>\n",
       "      <td>16</td>\n",
       "      <td>42</td>\n",
       "      <td>607</td>\n",
       "      <td>704000</td>\n",
       "      <td>2000</td>\n",
       "      <td>credit_card</td>\n",
       "      <td>2017-03-07 04:00:00</td>\n",
       "      <td>352.0</td>\n",
       "    </tr>\n",
       "    <tr>\n",
       "      <th>60</th>\n",
       "      <td>61</td>\n",
       "      <td>42</td>\n",
       "      <td>607</td>\n",
       "      <td>704000</td>\n",
       "      <td>2000</td>\n",
       "      <td>credit_card</td>\n",
       "      <td>2017-03-04 04:00:00</td>\n",
       "      <td>352.0</td>\n",
       "    </tr>\n",
       "    <tr>\n",
       "      <th>520</th>\n",
       "      <td>521</td>\n",
       "      <td>42</td>\n",
       "      <td>607</td>\n",
       "      <td>704000</td>\n",
       "      <td>2000</td>\n",
       "      <td>credit_card</td>\n",
       "      <td>2017-03-02 04:00:00</td>\n",
       "      <td>352.0</td>\n",
       "    </tr>\n",
       "    <tr>\n",
       "      <th>1104</th>\n",
       "      <td>1105</td>\n",
       "      <td>42</td>\n",
       "      <td>607</td>\n",
       "      <td>704000</td>\n",
       "      <td>2000</td>\n",
       "      <td>credit_card</td>\n",
       "      <td>2017-03-24 04:00:00</td>\n",
       "      <td>352.0</td>\n",
       "    </tr>\n",
       "    <tr>\n",
       "      <th>1362</th>\n",
       "      <td>1363</td>\n",
       "      <td>42</td>\n",
       "      <td>607</td>\n",
       "      <td>704000</td>\n",
       "      <td>2000</td>\n",
       "      <td>credit_card</td>\n",
       "      <td>2017-03-15 04:00:00</td>\n",
       "      <td>352.0</td>\n",
       "    </tr>\n",
       "    <tr>\n",
       "      <th>1436</th>\n",
       "      <td>1437</td>\n",
       "      <td>42</td>\n",
       "      <td>607</td>\n",
       "      <td>704000</td>\n",
       "      <td>2000</td>\n",
       "      <td>credit_card</td>\n",
       "      <td>2017-03-11 04:00:00</td>\n",
       "      <td>352.0</td>\n",
       "    </tr>\n",
       "    <tr>\n",
       "      <th>1562</th>\n",
       "      <td>1563</td>\n",
       "      <td>42</td>\n",
       "      <td>607</td>\n",
       "      <td>704000</td>\n",
       "      <td>2000</td>\n",
       "      <td>credit_card</td>\n",
       "      <td>2017-03-19 04:00:00</td>\n",
       "      <td>352.0</td>\n",
       "    </tr>\n",
       "    <tr>\n",
       "      <th>1602</th>\n",
       "      <td>1603</td>\n",
       "      <td>42</td>\n",
       "      <td>607</td>\n",
       "      <td>704000</td>\n",
       "      <td>2000</td>\n",
       "      <td>credit_card</td>\n",
       "      <td>2017-03-17 04:00:00</td>\n",
       "      <td>352.0</td>\n",
       "    </tr>\n",
       "    <tr>\n",
       "      <th>2153</th>\n",
       "      <td>2154</td>\n",
       "      <td>42</td>\n",
       "      <td>607</td>\n",
       "      <td>704000</td>\n",
       "      <td>2000</td>\n",
       "      <td>credit_card</td>\n",
       "      <td>2017-03-12 04:00:00</td>\n",
       "      <td>352.0</td>\n",
       "    </tr>\n",
       "    <tr>\n",
       "      <th>2297</th>\n",
       "      <td>2298</td>\n",
       "      <td>42</td>\n",
       "      <td>607</td>\n",
       "      <td>704000</td>\n",
       "      <td>2000</td>\n",
       "      <td>credit_card</td>\n",
       "      <td>2017-03-07 04:00:00</td>\n",
       "      <td>352.0</td>\n",
       "    </tr>\n",
       "    <tr>\n",
       "      <th>2835</th>\n",
       "      <td>2836</td>\n",
       "      <td>42</td>\n",
       "      <td>607</td>\n",
       "      <td>704000</td>\n",
       "      <td>2000</td>\n",
       "      <td>credit_card</td>\n",
       "      <td>2017-03-28 04:00:00</td>\n",
       "      <td>352.0</td>\n",
       "    </tr>\n",
       "    <tr>\n",
       "      <th>2969</th>\n",
       "      <td>2970</td>\n",
       "      <td>42</td>\n",
       "      <td>607</td>\n",
       "      <td>704000</td>\n",
       "      <td>2000</td>\n",
       "      <td>credit_card</td>\n",
       "      <td>2017-03-28 04:00:00</td>\n",
       "      <td>352.0</td>\n",
       "    </tr>\n",
       "    <tr>\n",
       "      <th>3332</th>\n",
       "      <td>3333</td>\n",
       "      <td>42</td>\n",
       "      <td>607</td>\n",
       "      <td>704000</td>\n",
       "      <td>2000</td>\n",
       "      <td>credit_card</td>\n",
       "      <td>2017-03-24 04:00:00</td>\n",
       "      <td>352.0</td>\n",
       "    </tr>\n",
       "    <tr>\n",
       "      <th>4056</th>\n",
       "      <td>4057</td>\n",
       "      <td>42</td>\n",
       "      <td>607</td>\n",
       "      <td>704000</td>\n",
       "      <td>2000</td>\n",
       "      <td>credit_card</td>\n",
       "      <td>2017-03-28 04:00:00</td>\n",
       "      <td>352.0</td>\n",
       "    </tr>\n",
       "    <tr>\n",
       "      <th>4646</th>\n",
       "      <td>4647</td>\n",
       "      <td>42</td>\n",
       "      <td>607</td>\n",
       "      <td>704000</td>\n",
       "      <td>2000</td>\n",
       "      <td>credit_card</td>\n",
       "      <td>2017-03-02 04:00:00</td>\n",
       "      <td>352.0</td>\n",
       "    </tr>\n",
       "    <tr>\n",
       "      <th>4868</th>\n",
       "      <td>4869</td>\n",
       "      <td>42</td>\n",
       "      <td>607</td>\n",
       "      <td>704000</td>\n",
       "      <td>2000</td>\n",
       "      <td>credit_card</td>\n",
       "      <td>2017-03-22 04:00:00</td>\n",
       "      <td>352.0</td>\n",
       "    </tr>\n",
       "    <tr>\n",
       "      <th>4882</th>\n",
       "      <td>4883</td>\n",
       "      <td>42</td>\n",
       "      <td>607</td>\n",
       "      <td>704000</td>\n",
       "      <td>2000</td>\n",
       "      <td>credit_card</td>\n",
       "      <td>2017-03-25 04:00:00</td>\n",
       "      <td>352.0</td>\n",
       "    </tr>\n",
       "  </tbody>\n",
       "</table>\n",
       "</div>"
      ],
      "text/plain": [
       "     order_id item_id user_id  order_amount  total_items payment_method  \\\n",
       "15         16      42     607        704000         2000    credit_card   \n",
       "60         61      42     607        704000         2000    credit_card   \n",
       "520       521      42     607        704000         2000    credit_card   \n",
       "1104     1105      42     607        704000         2000    credit_card   \n",
       "1362     1363      42     607        704000         2000    credit_card   \n",
       "1436     1437      42     607        704000         2000    credit_card   \n",
       "1562     1563      42     607        704000         2000    credit_card   \n",
       "1602     1603      42     607        704000         2000    credit_card   \n",
       "2153     2154      42     607        704000         2000    credit_card   \n",
       "2297     2298      42     607        704000         2000    credit_card   \n",
       "2835     2836      42     607        704000         2000    credit_card   \n",
       "2969     2970      42     607        704000         2000    credit_card   \n",
       "3332     3333      42     607        704000         2000    credit_card   \n",
       "4056     4057      42     607        704000         2000    credit_card   \n",
       "4646     4647      42     607        704000         2000    credit_card   \n",
       "4868     4869      42     607        704000         2000    credit_card   \n",
       "4882     4883      42     607        704000         2000    credit_card   \n",
       "\n",
       "              created_at  item_price  \n",
       "15   2017-03-07 04:00:00       352.0  \n",
       "60   2017-03-04 04:00:00       352.0  \n",
       "520  2017-03-02 04:00:00       352.0  \n",
       "1104 2017-03-24 04:00:00       352.0  \n",
       "1362 2017-03-15 04:00:00       352.0  \n",
       "1436 2017-03-11 04:00:00       352.0  \n",
       "1562 2017-03-19 04:00:00       352.0  \n",
       "1602 2017-03-17 04:00:00       352.0  \n",
       "2153 2017-03-12 04:00:00       352.0  \n",
       "2297 2017-03-07 04:00:00       352.0  \n",
       "2835 2017-03-28 04:00:00       352.0  \n",
       "2969 2017-03-28 04:00:00       352.0  \n",
       "3332 2017-03-24 04:00:00       352.0  \n",
       "4056 2017-03-28 04:00:00       352.0  \n",
       "4646 2017-03-02 04:00:00       352.0  \n",
       "4868 2017-03-22 04:00:00       352.0  \n",
       "4882 2017-03-25 04:00:00       352.0  "
      ]
     },
     "execution_count": 484,
     "metadata": {},
     "output_type": "execute_result"
    }
   ],
   "source": [
    "data[data['total_items'] == 2000]"
   ]
  },
  {
   "cell_type": "markdown",
   "metadata": {},
   "source": [
    "<font  size=4 color = #5F9EA0> These two extreme outliers all come from one user_id '607', who purchased 2000 items for each order. This customer must be business customer but not individual customer who wants to purchase for personal use. So we need to seperate our analysis into individual customer part and business customer part. Given the fact that we only have one user who seems to be a business customer in this dataset, our analysis in the following will be analysis about individual customers who buy the products for personal use. </font>\n",
    " "
   ]
  },
  {
   "cell_type": "code",
   "execution_count": 774,
   "metadata": {},
   "outputs": [],
   "source": [
    "# remove data of user '607'\n",
    "data_one = data[data['user_id'] != 607]"
   ]
  },
  {
   "cell_type": "code",
   "execution_count": 488,
   "metadata": {
    "scrolled": false
   },
   "outputs": [
    {
     "name": "stdout",
     "output_type": "stream",
     "text": [
      "There is a total of 300 customers \n",
      "\n",
      "There is a total of 100 items on sales \n",
      "\n",
      "Payment methods available are cash , credit_card and debit \n",
      "\n",
      "Order information between 2017-03-01 00:08:00 and 2017-03-30 23:55:00\n"
     ]
    }
   ],
   "source": [
    "print('There is a total of {} customers'.format(len(data_one['user_id'].unique())),'\\n')\n",
    "print('There is a total of {} items on sales'.format(len(data_one['item_id'].unique())), '\\n')\n",
    "print('Payment methods available are', data_one['payment_method'].unique()[0],',',data_one['payment_method'].unique()[1], 'and',data_one['payment_method'].unique()[2],'\\n')\n",
    "print('Order information between {} and {}'.format(min(data_one['created_at']), max(data_one['created_at'])))"
   ]
  },
  {
   "cell_type": "markdown",
   "metadata": {},
   "source": [
    "## 2. Data Analysis"
   ]
  },
  {
   "cell_type": "markdown",
   "metadata": {},
   "source": [
    "## 2.1 AOV Analysis"
   ]
  },
  {
   "cell_type": "markdown",
   "metadata": {},
   "source": [
    "   <font  size=4 color = #5F9EA0> Equation of AOV Calculation : AOV =  Total Revenvue / Total Number of Orders </font>"
   ]
  },
  {
   "cell_type": "code",
   "execution_count": 489,
   "metadata": {},
   "outputs": [
    {
     "name": "stdout",
     "output_type": "stream",
     "text": [
      "Average order value without removing outliers is 754.09\n"
     ]
    }
   ],
   "source": [
    "# AOV without any customer segmentations\n",
    "print('Average order value without removing outliers is', round(sum(data_one['order_amount'])/4983,2))"
   ]
  },
  {
   "cell_type": "code",
   "execution_count": 467,
   "metadata": {
    "scrolled": true
   },
   "outputs": [
    {
     "data": {
      "image/png": "[encoded data removed]",
      "text/plain": [
       "<Figure size 792x288 with 1 Axes>"
      ]
     },
     "metadata": {
      "needs_background": "light"
     },
     "output_type": "display_data"
    }
   ],
   "source": [
    "# check the distribution of 'order amount'\n",
    "plt.figure(figsize = (11,4))\n",
    "plt.hist(data_one['order_amount'])\n",
    "plt.title('Distribution of Order Amount')\n",
    "plt.xticks(range(0,160000,10000))\n",
    "plt.show()"
   ]
  },
  {
   "cell_type": "markdown",
   "metadata": {},
   "source": [
    "<font  size=4 color = #5F9EA0> We can see that most of the orders value less than 10000, very few orders value more than 10000. </font>"
   ]
  },
  {
   "cell_type": "code",
   "execution_count": 465,
   "metadata": {
    "scrolled": true
   },
   "outputs": [
    {
     "data": {
      "image/png": "[encoded data removed]",
      "text/plain": [
       "<Figure size 432x288 with 1 Axes>"
      ]
     },
     "metadata": {
      "needs_background": "light"
     },
     "output_type": "display_data"
    }
   ],
   "source": [
    "# check the distribution of 'total items'\n",
    "plt.hist(data_one['total_items'])\n",
    "plt.title('Distribution of Total Items')\n",
    "plt.show()"
   ]
  },
  {
   "cell_type": "markdown",
   "metadata": {},
   "source": [
    "<font  size=4 color = #5F9EA0> Most of the orders contain less than 3 items. </font>"
   ]
  },
  {
   "cell_type": "code",
   "execution_count": 517,
   "metadata": {
    "scrolled": false
   },
   "outputs": [
    {
     "data": {
      "image/png": "[encoded data removed]",
      "text/plain": [
       "<Figure size 432x288 with 1 Axes>"
      ]
     },
     "metadata": {
      "needs_background": "light"
     },
     "output_type": "display_data"
    }
   ],
   "source": [
    "# check the distribution of 'item price per order', here I assume that the order_amount only includes values of items, but not includes shipping costs, etc\n",
    "plt.hist(data_one[data_one['item_price']!= 25725]['item_price'])\n",
    "plt.title('Distribution of Item Price')\n",
    "plt.show()\n"
   ]
  },
  {
   "cell_type": "markdown",
   "metadata": {},
   "source": [
    "<font  size=4 color = #5F9EA0> Except that there is an extreme high value product worth more than 25000, most of other products being sold are less than 250. </font>"
   ]
  },
  {
   "cell_type": "markdown",
   "metadata": {},
   "source": [
    "## 2.1.1 AOV for Different Customer Segments"
   ]
  },
  {
   "cell_type": "markdown",
   "metadata": {},
   "source": [
    "<font  size=4 color = #5F9EA0> To have better understanding of AOV, I segment customers by 'order amount' and calculate AOVs for different customer segments. </font>"
   ]
  },
  {
   "cell_type": "markdown",
   "metadata": {},
   "source": [
    "\n",
    "<font  size=4 color = #5F9EA0> (1) Customers who spent less than 500 for an order - **C1** </font>\n",
    "\n",
    "<font  size=4 color = #5F9EA0> (2) Customers who spent more than 500 but less than 2000 for an order - **C2** </font>\n",
    "\n",
    "<font  size=4 color = #5F9EA0> (3) Customers who spent more than 2000 for an order - **C3** </font>"
   ]
  },
  {
   "cell_type": "code",
   "execution_count": 752,
   "metadata": {
    "scrolled": true
   },
   "outputs": [],
   "source": [
    "# aov for customers who purchase less than 500 for an order\n",
    "C1 = data_one[data_one['order_amount'] <= 500]"
   ]
  },
  {
   "cell_type": "code",
   "execution_count": 545,
   "metadata": {
    "scrolled": true
   },
   "outputs": [
    {
     "name": "stdout",
     "output_type": "stream",
     "text": [
      "more than 87.28 percent of orders worth less than 500\n"
     ]
    }
   ],
   "source": [
    "print('more than {} percent of orders worth less than 500'.format(4364/5000*100))"
   ]
  },
  {
   "cell_type": "code",
   "execution_count": 568,
   "metadata": {},
   "outputs": [
    {
     "name": "stdout",
     "output_type": "stream",
     "text": [
      "The AOV of C1 categories are 260.95944087992666\n"
     ]
    }
   ],
   "source": [
    "# aov for orders in C1 category\n",
    "print('The AOV of C1 categories are', sum(C1['order_amount'])/4364)"
   ]
  },
  {
   "cell_type": "code",
   "execution_count": 547,
   "metadata": {},
   "outputs": [
    {
     "data": {
      "text/html": [
       "<div>\n",
       "<style scoped>\n",
       "    .dataframe tbody tr th:only-of-type {\n",
       "        vertical-align: middle;\n",
       "    }\n",
       "\n",
       "    .dataframe tbody tr th {\n",
       "        vertical-align: top;\n",
       "    }\n",
       "\n",
       "    .dataframe thead th {\n",
       "        text-align: right;\n",
       "    }\n",
       "</style>\n",
       "<table border=\"1\" class=\"dataframe\">\n",
       "  <thead>\n",
       "    <tr style=\"text-align: right;\">\n",
       "      <th></th>\n",
       "      <th>total_items</th>\n",
       "      <th>number_of_orders</th>\n",
       "      <th>percentage</th>\n",
       "    </tr>\n",
       "  </thead>\n",
       "  <tbody>\n",
       "    <tr>\n",
       "      <th>0</th>\n",
       "      <td>1</td>\n",
       "      <td>1811</td>\n",
       "      <td>41.498625</td>\n",
       "    </tr>\n",
       "    <tr>\n",
       "      <th>1</th>\n",
       "      <td>2</td>\n",
       "      <td>1803</td>\n",
       "      <td>41.315307</td>\n",
       "    </tr>\n",
       "    <tr>\n",
       "      <th>2</th>\n",
       "      <td>3</td>\n",
       "      <td>702</td>\n",
       "      <td>16.086159</td>\n",
       "    </tr>\n",
       "    <tr>\n",
       "      <th>3</th>\n",
       "      <td>4</td>\n",
       "      <td>46</td>\n",
       "      <td>1.054079</td>\n",
       "    </tr>\n",
       "    <tr>\n",
       "      <th>4</th>\n",
       "      <td>5</td>\n",
       "      <td>2</td>\n",
       "      <td>0.045830</td>\n",
       "    </tr>\n",
       "  </tbody>\n",
       "</table>\n",
       "</div>"
      ],
      "text/plain": [
       "   total_items  number_of_orders  percentage\n",
       "0            1              1811   41.498625\n",
       "1            2              1803   41.315307\n",
       "2            3               702   16.086159\n",
       "3            4                46    1.054079\n",
       "4            5                 2    0.045830"
      ]
     },
     "execution_count": 547,
     "metadata": {},
     "output_type": "execute_result"
    }
   ],
   "source": [
    "c1_cnt = pd.DataFrame(C1.groupby('total_items')['order_id'].count()).reset_index()\n",
    "c1_cnt.rename(columns = {'order_id':'number_of_orders'}, inplace = True)\n",
    "c1_cnt['percentage'] = c1_cnt['number_of_orders']/4364*100\n",
    "c1_cnt"
   ]
  },
  {
   "cell_type": "code",
   "execution_count": 753,
   "metadata": {
    "scrolled": true
   },
   "outputs": [
    {
     "data": {
      "text/plain": [
       "([<matplotlib.axis.XTick at 0x1248b3e90>,\n",
       "  <matplotlib.axis.XTick at 0x12336a9d0>,\n",
       "  <matplotlib.axis.XTick at 0x123389710>,\n",
       "  <matplotlib.axis.XTick at 0x12431a350>,\n",
       "  <matplotlib.axis.XTick at 0x12431a8d0>],\n",
       " <a list of 5 Text xticklabel objects>)"
      ]
     },
     "execution_count": 753,
     "metadata": {},
     "output_type": "execute_result"
    },
    {
     "data": {
      "image/png": "[encoded data removed]",
      "text/plain": [
       "<Figure size 432x288 with 1 Axes>"
      ]
     },
     "metadata": {
      "needs_background": "light"
     },
     "output_type": "display_data"
    }
   ],
   "source": [
    "plt.bar(range(5),c1_cnt['number_of_orders'])\n",
    "plt.ylabel('Number of Orders')\n",
    "plt.xlabel('Total Items Per Order')\n",
    "plt.title('Number of Orders VS Total Items')\n",
    "plt.xticks(range(5),[1,2,3,4,5])"
   ]
  },
  {
   "cell_type": "markdown",
   "metadata": {},
   "source": [
    "<font  size=4 color = #5F9EA0> - Customers fall into C1 category include **no more than 5 items** each time. </font>\n",
    "\n",
    "<font  size=4 color = #5F9EA0> - More than **83%** of customers in C1 category purchase less than 2 items at a time. </font>"
   ]
  },
  {
   "cell_type": "code",
   "execution_count": 585,
   "metadata": {
    "scrolled": true
   },
   "outputs": [
    {
     "data": {
      "image/png": "[encoded data removed]",
      "text/plain": [
       "<Figure size 1080x360 with 1 Axes>"
      ]
     },
     "metadata": {
      "needs_background": "light"
     },
     "output_type": "display_data"
    }
   ],
   "source": [
    "## see how item price of C1 orders distribute\n",
    "plt.figure(figsize=(15,5))\n",
    "plt.hist(C1['item_price'], density = True, bins = 20)\n",
    "plt.xlabel('Item Price')\n",
    "plt.xticks(range(0,350,10))\n",
    "plt.show()"
   ]
  },
  {
   "cell_type": "markdown",
   "metadata": {},
   "source": [
    "<font  size=4 color = #5F9EA0> - Item price in C1 category mostly ranges between **130 - 140** and **170 - 180** </font>"
   ]
  },
  {
   "cell_type": "code",
   "execution_count": 754,
   "metadata": {
    "scrolled": true
   },
   "outputs": [],
   "source": [
    "# Orders worth between 500 and 2000\n",
    "C2 = data_one[(data_one['order_amount']>=500)&(data_one['order_amount']<2000)]"
   ]
  },
  {
   "cell_type": "code",
   "execution_count": 603,
   "metadata": {},
   "outputs": [
    {
     "name": "stdout",
     "output_type": "stream",
     "text": [
      "The AOV of C2 categories are 619.5689354275742\n"
     ]
    }
   ],
   "source": [
    "## aov for orders in C2 category\n",
    "print('The AOV of C2 categories are', sum(C2['order_amount'])/573)"
   ]
  },
  {
   "cell_type": "code",
   "execution_count": 755,
   "metadata": {},
   "outputs": [
    {
     "name": "stdout",
     "output_type": "stream",
     "text": [
      "About than 11.46 percent of orders worth more than 500 and less than 2000\n"
     ]
    }
   ],
   "source": [
    "print('About than {} percent of orders worth more than 500 and less than 2000'.format(round(573/5000*100,2)))"
   ]
  },
  {
   "cell_type": "code",
   "execution_count": 565,
   "metadata": {},
   "outputs": [
    {
     "data": {
      "text/html": [
       "<div>\n",
       "<style scoped>\n",
       "    .dataframe tbody tr th:only-of-type {\n",
       "        vertical-align: middle;\n",
       "    }\n",
       "\n",
       "    .dataframe tbody tr th {\n",
       "        vertical-align: top;\n",
       "    }\n",
       "\n",
       "    .dataframe thead th {\n",
       "        text-align: right;\n",
       "    }\n",
       "</style>\n",
       "<table border=\"1\" class=\"dataframe\">\n",
       "  <thead>\n",
       "    <tr style=\"text-align: right;\">\n",
       "      <th></th>\n",
       "      <th>total_items</th>\n",
       "      <th>number_of_orders</th>\n",
       "      <th>percentage</th>\n",
       "    </tr>\n",
       "  </thead>\n",
       "  <tbody>\n",
       "    <tr>\n",
       "      <th>0</th>\n",
       "      <td>2</td>\n",
       "      <td>13</td>\n",
       "      <td>2.268761</td>\n",
       "    </tr>\n",
       "    <tr>\n",
       "      <th>1</th>\n",
       "      <td>3</td>\n",
       "      <td>230</td>\n",
       "      <td>40.139616</td>\n",
       "    </tr>\n",
       "    <tr>\n",
       "      <th>2</th>\n",
       "      <td>4</td>\n",
       "      <td>246</td>\n",
       "      <td>42.931937</td>\n",
       "    </tr>\n",
       "    <tr>\n",
       "      <th>3</th>\n",
       "      <td>5</td>\n",
       "      <td>75</td>\n",
       "      <td>13.089005</td>\n",
       "    </tr>\n",
       "    <tr>\n",
       "      <th>4</th>\n",
       "      <td>6</td>\n",
       "      <td>8</td>\n",
       "      <td>1.396161</td>\n",
       "    </tr>\n",
       "    <tr>\n",
       "      <th>5</th>\n",
       "      <td>8</td>\n",
       "      <td>1</td>\n",
       "      <td>0.174520</td>\n",
       "    </tr>\n",
       "  </tbody>\n",
       "</table>\n",
       "</div>"
      ],
      "text/plain": [
       "   total_items  number_of_orders  percentage\n",
       "0            2                13    2.268761\n",
       "1            3               230   40.139616\n",
       "2            4               246   42.931937\n",
       "3            5                75   13.089005\n",
       "4            6                 8    1.396161\n",
       "5            8                 1    0.174520"
      ]
     },
     "execution_count": 565,
     "metadata": {},
     "output_type": "execute_result"
    }
   ],
   "source": [
    "c2_cnt = pd.DataFrame(C2.groupby('total_items')['order_id'].count()).reset_index()\n",
    "c2_cnt.rename(columns = {'order_id':'number_of_orders'}, inplace = True)\n",
    "c2_cnt['percentage'] = c2_cnt['number_of_orders']/573*100\n",
    "c2_cnt"
   ]
  },
  {
   "cell_type": "code",
   "execution_count": 756,
   "metadata": {
    "scrolled": true
   },
   "outputs": [
    {
     "data": {
      "text/plain": [
       "([<matplotlib.axis.XTick at 0x122f55a50>,\n",
       "  <matplotlib.axis.XTick at 0x122f55090>,\n",
       "  <matplotlib.axis.XTick at 0x122f78b50>,\n",
       "  <matplotlib.axis.XTick at 0x12281f3d0>,\n",
       "  <matplotlib.axis.XTick at 0x12281f8d0>,\n",
       "  <matplotlib.axis.XTick at 0x12281ff10>],\n",
       " <a list of 6 Text xticklabel objects>)"
      ]
     },
     "execution_count": 756,
     "metadata": {},
     "output_type": "execute_result"
    },
    {
     "data": {
      "image/png": "[encoded data removed]",
      "text/plain": [
       "<Figure size 432x288 with 1 Axes>"
      ]
     },
     "metadata": {
      "needs_background": "light"
     },
     "output_type": "display_data"
    }
   ],
   "source": [
    "plt.bar(range(6),c2_cnt['number_of_orders'])\n",
    "plt.ylabel('Number of Orders')\n",
    "plt.xlabel('Total Items Per Order')\n",
    "plt.title('Number of Orders VS Total Items')\n",
    "plt.xticks(range(6),[2,3,4,5,6,8])"
   ]
  },
  {
   "cell_type": "markdown",
   "metadata": {},
   "source": [
    "<font  size=4 color = #5F9EA0> - More than **97%** of customers in C2 category purchase **more than 2 items** at a time. </font>"
   ]
  },
  {
   "cell_type": "code",
   "execution_count": 584,
   "metadata": {
    "scrolled": true
   },
   "outputs": [
    {
     "data": {
      "image/png": "[encoded data removed]",
      "text/plain": [
       "<Figure size 1080x360 with 1 Axes>"
      ]
     },
     "metadata": {
      "needs_background": "light"
     },
     "output_type": "display_data"
    }
   ],
   "source": [
    "# see how item price of C2 orders distribute\n",
    "plt.figure(figsize=(15,5))\n",
    "plt.hist(C2['item_price'], density = True, bins = 30)\n",
    "plt.xlabel('Item Price')\n",
    "plt.xticks(range(0,350,10))\n",
    "plt.show()"
   ]
  },
  {
   "cell_type": "markdown",
   "metadata": {},
   "source": [
    "<font  size=4 color = #5F9EA0> - Item price in C2 category mostly range between **180 - 185** </font>"
   ]
  },
  {
   "cell_type": "code",
   "execution_count": 757,
   "metadata": {
    "scrolled": true
   },
   "outputs": [],
   "source": [
    "# Orders worth more than 2000\n",
    "C3 = data_one[data_one['order_amount'] > 2000]"
   ]
  },
  {
   "cell_type": "code",
   "execution_count": 602,
   "metadata": {},
   "outputs": [
    {
     "name": "stdout",
     "output_type": "stream",
     "text": [
      "The AOV of C3 categories are 49213.04347826087\n"
     ]
    }
   ],
   "source": [
    "# aov of C3 category\n",
    "print('The AOV of C3 categories are', sum(C3['order_amount'])/46)"
   ]
  },
  {
   "cell_type": "code",
   "execution_count": 758,
   "metadata": {},
   "outputs": [
    {
     "name": "stdout",
     "output_type": "stream",
     "text": [
      "About 0.92 percent of orders worth more than 2000\n"
     ]
    }
   ],
   "source": [
    "print('About {} percent of orders worth more than 2000'.format(round(46/5000*100,2)))"
   ]
  },
  {
   "cell_type": "code",
   "execution_count": 595,
   "metadata": {},
   "outputs": [
    {
     "data": {
      "text/html": [
       "<div>\n",
       "<style scoped>\n",
       "    .dataframe tbody tr th:only-of-type {\n",
       "        vertical-align: middle;\n",
       "    }\n",
       "\n",
       "    .dataframe tbody tr th {\n",
       "        vertical-align: top;\n",
       "    }\n",
       "\n",
       "    .dataframe thead th {\n",
       "        text-align: right;\n",
       "    }\n",
       "</style>\n",
       "<table border=\"1\" class=\"dataframe\">\n",
       "  <thead>\n",
       "    <tr style=\"text-align: right;\">\n",
       "      <th></th>\n",
       "      <th>total_items</th>\n",
       "      <th>number_of_orders</th>\n",
       "      <th>percentage</th>\n",
       "    </tr>\n",
       "  </thead>\n",
       "  <tbody>\n",
       "    <tr>\n",
       "      <th>0</th>\n",
       "      <td>1</td>\n",
       "      <td>19</td>\n",
       "      <td>41.304348</td>\n",
       "    </tr>\n",
       "    <tr>\n",
       "      <th>1</th>\n",
       "      <td>2</td>\n",
       "      <td>16</td>\n",
       "      <td>34.782609</td>\n",
       "    </tr>\n",
       "    <tr>\n",
       "      <th>2</th>\n",
       "      <td>3</td>\n",
       "      <td>9</td>\n",
       "      <td>19.565217</td>\n",
       "    </tr>\n",
       "    <tr>\n",
       "      <th>3</th>\n",
       "      <td>4</td>\n",
       "      <td>1</td>\n",
       "      <td>2.173913</td>\n",
       "    </tr>\n",
       "    <tr>\n",
       "      <th>4</th>\n",
       "      <td>6</td>\n",
       "      <td>1</td>\n",
       "      <td>2.173913</td>\n",
       "    </tr>\n",
       "  </tbody>\n",
       "</table>\n",
       "</div>"
      ],
      "text/plain": [
       "   total_items  number_of_orders  percentage\n",
       "0            1                19   41.304348\n",
       "1            2                16   34.782609\n",
       "2            3                 9   19.565217\n",
       "3            4                 1    2.173913\n",
       "4            6                 1    2.173913"
      ]
     },
     "execution_count": 595,
     "metadata": {},
     "output_type": "execute_result"
    }
   ],
   "source": [
    "c3_cnt = pd.DataFrame(C3.groupby('total_items')['order_id'].count()).reset_index()\n",
    "c3_cnt.rename(columns = {'order_id':'number_of_orders'}, inplace = True)\n",
    "c3_cnt['percentage'] = c3_cnt['number_of_orders']/46*100\n",
    "c3_cnt"
   ]
  },
  {
   "cell_type": "code",
   "execution_count": 759,
   "metadata": {
    "scrolled": true
   },
   "outputs": [
    {
     "data": {
      "text/plain": [
       "([<matplotlib.axis.XTick at 0x124254410>,\n",
       "  <matplotlib.axis.XTick at 0x125cb7c10>,\n",
       "  <matplotlib.axis.XTick at 0x125cb79d0>,\n",
       "  <matplotlib.axis.XTick at 0x12424a990>,\n",
       "  <matplotlib.axis.XTick at 0x12424af10>],\n",
       " <a list of 5 Text xticklabel objects>)"
      ]
     },
     "execution_count": 759,
     "metadata": {},
     "output_type": "execute_result"
    },
    {
     "data": {
      "image/png": "[encoded data removed]",
      "text/plain": [
       "<Figure size 432x288 with 1 Axes>"
      ]
     },
     "metadata": {
      "needs_background": "light"
     },
     "output_type": "display_data"
    }
   ],
   "source": [
    "plt.bar(range(5),c3_cnt['number_of_orders'])\n",
    "plt.ylabel('Number of Orders')\n",
    "plt.xlabel('Total Items Per Order')\n",
    "plt.title('Number of Orders VS Total Items')\n",
    "plt.xticks(range(5),[1,2,3,4,6])"
   ]
  },
  {
   "cell_type": "markdown",
   "metadata": {},
   "source": [
    "<font  size=4 color = #5F9EA0> - More than **75%** of customers in C3 category purchase less than 2 items at a time. </font>"
   ]
  },
  {
   "cell_type": "code",
   "execution_count": 760,
   "metadata": {
    "scrolled": false
   },
   "outputs": [
    {
     "data": {
      "image/png": "[encoded data removed]",
      "text/plain": [
       "<Figure size 432x288 with 1 Axes>"
      ]
     },
     "metadata": {
      "needs_background": "light"
     },
     "output_type": "display_data"
    }
   ],
   "source": [
    "# see how item price of C2 orders distribute\n",
    "plt.hist(C3['item_price'])\n",
    "plt.xlabel('Item Price')\n",
    "plt.show()"
   ]
  },
  {
   "cell_type": "markdown",
   "metadata": {},
   "source": [
    "<font  size=4 color = #5F9EA0> - For orders in C3 category, the reason why the order amount is high because the item price is high, but not because the customers tend to buy more items. </font>"
   ]
  },
  {
   "cell_type": "markdown",
   "metadata": {},
   "source": [
    "## 2.1.2 Analyze Daily AOV Trend in a Month"
   ]
  },
  {
   "cell_type": "code",
   "execution_count": 775,
   "metadata": {
    "scrolled": false
   },
   "outputs": [
    {
     "name": "stderr",
     "output_type": "stream",
     "text": [
      "/opt/anaconda3/lib/python3.7/site-packages/pandas/core/generic.py:5303: SettingWithCopyWarning: \n",
      "A value is trying to be set on a copy of a slice from a DataFrame.\n",
      "Try using .loc[row_indexer,col_indexer] = value instead\n",
      "\n",
      "See the caveats in the documentation: https://pandas.pydata.org/pandas-docs/stable/user_guide/indexing.html#returning-a-view-versus-a-copy\n",
      "  self[name] = value\n"
     ]
    }
   ],
   "source": [
    "data_one.created_at = pd.Series(data_one.created_at.map(lambda x: x.strftime('%Y-%m-%d')))"
   ]
  },
  {
   "cell_type": "code",
   "execution_count": 776,
   "metadata": {
    "scrolled": true
   },
   "outputs": [],
   "source": [
    "aov_trend = pd.DataFrame(data_one.groupby('created_at')['order_amount'].sum())\n",
    "aov_trend['number_of_orders'] = pd.Series(data_one.groupby('created_at')['order_id'].count())\n",
    "aov_trend['daily_aov'] = aov_trend['order_amount']/aov_trend['number_of_orders']"
   ]
  },
  {
   "cell_type": "code",
   "execution_count": 778,
   "metadata": {},
   "outputs": [
    {
     "data": {
      "text/plain": [
       "([<matplotlib.axis.XTick at 0x126bd0f50>,\n",
       "  <matplotlib.axis.XTick at 0x12424a250>,\n",
       "  <matplotlib.axis.XTick at 0x126bdead0>,\n",
       "  <matplotlib.axis.XTick at 0x125128c90>,\n",
       "  <matplotlib.axis.XTick at 0x125130290>,\n",
       "  <matplotlib.axis.XTick at 0x1251308d0>,\n",
       "  <matplotlib.axis.XTick at 0x125130790>,\n",
       "  <matplotlib.axis.XTick at 0x1251355d0>,\n",
       "  <matplotlib.axis.XTick at 0x125135c10>,\n",
       "  <matplotlib.axis.XTick at 0x125135550>,\n",
       "  <matplotlib.axis.XTick at 0x125130210>,\n",
       "  <matplotlib.axis.XTick at 0x12513b410>,\n",
       "  <matplotlib.axis.XTick at 0x12513bc10>,\n",
       "  <matplotlib.axis.XTick at 0x125143290>,\n",
       "  <matplotlib.axis.XTick at 0x1251438d0>,\n",
       "  <matplotlib.axis.XTick at 0x125143f10>,\n",
       "  <matplotlib.axis.XTick at 0x125149590>,\n",
       "  <matplotlib.axis.XTick at 0x125149bd0>,\n",
       "  <matplotlib.axis.XTick at 0x125151250>,\n",
       "  <matplotlib.axis.XTick at 0x125149650>,\n",
       "  <matplotlib.axis.XTick at 0x12513b450>,\n",
       "  <matplotlib.axis.XTick at 0x125151790>,\n",
       "  <matplotlib.axis.XTick at 0x125151dd0>,\n",
       "  <matplotlib.axis.XTick at 0x125406450>,\n",
       "  <matplotlib.axis.XTick at 0x125406a90>,\n",
       "  <matplotlib.axis.XTick at 0x12540d050>,\n",
       "  <matplotlib.axis.XTick at 0x12540d750>,\n",
       "  <matplotlib.axis.XTick at 0x12540dd90>,\n",
       "  <matplotlib.axis.XTick at 0x12540d510>,\n",
       "  <matplotlib.axis.XTick at 0x125406990>],\n",
       " <a list of 30 Text xticklabel objects>)"
      ]
     },
     "execution_count": 778,
     "metadata": {},
     "output_type": "execute_result"
    },
    {
     "data": {
      "image/png": "[encoded data removed]",
      "text/plain": [
       "<Figure size 1080x432 with 1 Axes>"
      ]
     },
     "metadata": {
      "needs_background": "light"
     },
     "output_type": "display_data"
    }
   ],
   "source": [
    "plt.figure(figsize = (15,6))\n",
    "plt.plot(range(30), aov_trend['daily_aov'])\n",
    "plt.title('Daily AOV In March, 2017')\n",
    "plt.xticks(range(30), aov_trend.index, rotation=45)"
   ]
  },
  {
   "cell_type": "markdown",
   "metadata": {},
   "source": [
    "<font  size=4 color = #5F9EA0> Based on the line chart above, the **AOV** line fluctuates in a **2-4 days** time interval within a range between 300 - 1000, except for some days when extremely big orders came. This indicate that most customers shop for every 2-4 days. </font>"
   ]
  },
  {
   "cell_type": "code",
   "execution_count": 779,
   "metadata": {},
   "outputs": [],
   "source": [
    "purchase_freq = pd.DataFrame(data_one.groupby('user_id')['order_id'].count()).reset_index()\n",
    "purchase_freq.rename(columns = {'order_id':'purchase_frequency'}, inplace = True)"
   ]
  },
  {
   "cell_type": "code",
   "execution_count": 780,
   "metadata": {
    "scrolled": true
   },
   "outputs": [
    {
     "data": {
      "text/plain": [
       "(array([ 7., 19., 40., 65., 55., 41., 32., 28.,  9.,  4.]),\n",
       " array([ 7. ,  9.1, 11.2, 13.3, 15.4, 17.5, 19.6, 21.7, 23.8, 25.9, 28. ]),\n",
       " <a list of 10 Patch objects>)"
      ]
     },
     "execution_count": 780,
     "metadata": {},
     "output_type": "execute_result"
    },
    {
     "data": {
      "image/png": "[encoded data removed]",
      "text/plain": [
       "<Figure size 432x288 with 1 Axes>"
      ]
     },
     "metadata": {
      "needs_background": "light"
     },
     "output_type": "display_data"
    }
   ],
   "source": [
    "# see how purchase freqency distributes\n",
    "plt.hist(purchase_freq['purchase_frequency'])"
   ]
  },
  {
   "cell_type": "markdown",
   "metadata": {},
   "source": [
    "<font  size=4 color = #5F9EA0> The purchase frequency barplot below both indicate that about **50%** of customers shop for every **2 days** withtin a month </font>"
   ]
  },
  {
   "cell_type": "markdown",
   "metadata": {},
   "source": [
    "## 2.1.3 Modelling - Linear Regression"
   ]
  },
  {
   "cell_type": "markdown",
   "metadata": {},
   "source": [
    "<font  size=4 color = #5F9EA0> Through EDA, we found that improving 'Order Amount' by selling more high-value products or sell more items per order can help with improving AOV. Now I built a linear regression model to validate the findings. </font>"
   ]
  },
  {
   "cell_type": "code",
   "execution_count": 787,
   "metadata": {},
   "outputs": [],
   "source": [
    "from sklearn.linear_model import LinearRegression\n",
    "import statsmodels.api as sm"
   ]
  },
  {
   "cell_type": "code",
   "execution_count": 784,
   "metadata": {},
   "outputs": [],
   "source": [
    "Y = data_one['order_amount']\n",
    "X = data_one[['total_items','item_price']]"
   ]
  },
  {
   "cell_type": "code",
   "execution_count": 788,
   "metadata": {},
   "outputs": [
    {
     "name": "stdout",
     "output_type": "stream",
     "text": [
      "                                 OLS Regression Results                                \n",
      "=======================================================================================\n",
      "Dep. Variable:           order_amount   R-squared (uncentered):                   0.781\n",
      "Model:                            OLS   Adj. R-squared (uncentered):              0.781\n",
      "Method:                 Least Squares   F-statistic:                              8867.\n",
      "Date:                Thu, 21 May 2020   Prob (F-statistic):                        0.00\n",
      "Time:                        12:47:01   Log-Likelihood:                         -46084.\n",
      "No. Observations:                4983   AIC:                                  9.217e+04\n",
      "Df Residuals:                    4981   BIC:                                  9.218e+04\n",
      "Df Model:                           2                                                  \n",
      "Covariance Type:            nonrobust                                                  \n",
      "===============================================================================\n",
      "                  coef    std err          t      P>|t|      [0.025      0.975]\n",
      "-------------------------------------------------------------------------------\n",
      "total_items    85.4776     16.170      5.286      0.000      53.778     117.177\n",
      "item_price      1.9028      0.015    131.086      0.000       1.874       1.931\n",
      "==============================================================================\n",
      "Omnibus:                    10161.617   Durbin-Watson:                   1.993\n",
      "Prob(Omnibus):                  0.000   Jarque-Bera (JB):        105677374.096\n",
      "Skew:                          16.261   Prob(JB):                         0.00\n",
      "Kurtosis:                     715.688   Cond. No.                     1.12e+03\n",
      "==============================================================================\n",
      "\n",
      "Warnings:\n",
      "[1] Standard Errors assume that the covariance matrix of the errors is correctly specified.\n",
      "[2] The condition number is large, 1.12e+03. This might indicate that there are\n",
      "strong multicollinearity or other numerical problems.\n"
     ]
    }
   ],
   "source": [
    "est = sm.OLS(Y, X)\n",
    "est2 = est.fit()\n",
    "print(est2.summary())"
   ]
  },
  {
   "cell_type": "markdown",
   "metadata": {},
   "source": [
    "<font  size=4 color = #5F9EA0> The result table shows that both 'Total Items' and 'Item Price' have significantly **positive** impacts on 'Order Amount'. The findings are validated. </font>"
   ]
  },
  {
   "cell_type": "markdown",
   "metadata": {},
   "source": [
    "## 2.1.4 Insights and Recommendations"
   ]
  },
  {
   "cell_type": "markdown",
   "metadata": {},
   "source": [
    "<font  size=2 color = #5F9EA0> AOV for C1: 260.96;    </font>\n",
    "<font  size=2 color = #5F9EA0>  AOV for C2: 619.57;    </font>\n",
    "<font  size=2 color = #5F9EA0>  AOV for C3: 49213.04 </font>"
   ]
  },
  {
   "cell_type": "markdown",
   "metadata": {},
   "source": [
    "<font  size=4 color = black> **Insights about AOV** </font>\n",
    "\n",
    "<font  size=3 color = black> &#x25A0; AOV for C2 category is higher than AOV for C1 because C2 customers tend to buy more items than C1 customers at a time, given that the item prices in C1 and C2 category are very close. </font>\n",
    "\n",
    "<font  size=3 color = black> &#x25A0; AOV for C3 category is higher than AOV for C1 because C3 customers tend to buy more expensive items, given that C3 customers do not buy more items at a time than C1 customers. </font>\n",
    "\n",
    "<font  size=4 color = black> **Recommendations about Improving AOV**</font>\n",
    "\n",
    "<font  size=3 color = black> &#x25A0; Encourage customers to buy more items each time. Common strategies: Cross-selling, upselling, volume discounts, free shipping, coupons, donations and return policy, etc. </font>\n",
    "\n",
    "\n",
    "<font  size=3 color = black> &#x25A0; Provide customers with more high-value products and encourage customers to buy more high-value products. </font>\n",
    "\n",
    "<font  size=3 color = black> &#x25A0; Sending coupons or product promotions through emails or other promotion channels to attract customers to come back to shop more frequently. </font>\n"
   ]
  },
  {
   "cell_type": "markdown",
   "metadata": {},
   "source": [
    "## 2.2  Payment Method Analysis"
   ]
  },
  {
   "cell_type": "markdown",
   "metadata": {},
   "source": [
    "## 2.2.1 Customer Payment Method Preference"
   ]
  },
  {
   "cell_type": "code",
   "execution_count": 790,
   "metadata": {
    "scrolled": false
   },
   "outputs": [],
   "source": [
    "payment_cnt = pd.DataFrame(data.groupby('payment_method')['order_id'].count())"
   ]
  },
  {
   "cell_type": "code",
   "execution_count": 795,
   "metadata": {
    "scrolled": true
   },
   "outputs": [
    {
     "data": {
      "text/plain": [
       "([<matplotlib.axis.XTick at 0x1a2aaa8610>,\n",
       "  <matplotlib.axis.XTick at 0x1a2aaa1e50>,\n",
       "  <matplotlib.axis.XTick at 0x1a2aaa1b50>],\n",
       " <a list of 3 Text xticklabel objects>)"
      ]
     },
     "execution_count": 795,
     "metadata": {},
     "output_type": "execute_result"
    },
    {
     "data": {
      "image/png": "[encoded data removed]",
      "text/plain": [
       "<Figure size 504x360 with 1 Axes>"
      ]
     },
     "metadata": {
      "needs_background": "light"
     },
     "output_type": "display_data"
    }
   ],
   "source": [
    "plt.figure(figsize = (7,5))\n",
    "plt.bar(range(3),payment_cnt['order_id'])\n",
    "plt.xlabel('Payment Method')\n",
    "plt.ylabel('Number of Orders')\n",
    "plt.title('Number of Orders VS Payment Method')\n",
    "plt.xticks(range(3),payment_cnt.index)"
   ]
  },
  {
   "cell_type": "markdown",
   "metadata": {},
   "source": [
    "<font  size=4 color = #5F9EA0> Number of orders for three payment method are close, while number of orders paid by credit card are slightly more than other two payment methods. </font>"
   ]
  },
  {
   "cell_type": "code",
   "execution_count": 789,
   "metadata": {},
   "outputs": [],
   "source": [
    "payment_pre = pd.DataFrame(data.groupby('user_id')['order_id'].count()).reset_index()\n",
    "payment_pre.rename(columns = {'order_id': 'total_orders'}, inplace = True)"
   ]
  },
  {
   "cell_type": "code",
   "execution_count": 697,
   "metadata": {},
   "outputs": [],
   "source": [
    "cash = data[data['payment_method'] == 'cash']\n",
    "credit = data[data['payment_method'] == 'credit_card']\n",
    "debit = data[data['payment_method'] == 'debit']"
   ]
  },
  {
   "cell_type": "code",
   "execution_count": 798,
   "metadata": {},
   "outputs": [
    {
     "name": "stdout",
     "output_type": "stream",
     "text": [
      "32 percent of orders are paid by cash \n",
      "\n",
      "35 percent of orders are paid by credit card \n",
      "\n",
      "33 percent of orders are paid by debit card \n",
      "\n"
     ]
    }
   ],
   "source": [
    "print('{} percent of orders are paid by cash'.format(round(cash.shape[0]/5000*100),2), '\\n')\n",
    "print('{} percent of orders are paid by credit card'.format(round(credit.shape[0]/5000*100),2), '\\n')\n",
    "print('{} percent of orders are paid by debit card'.format(round(debit.shape[0]/5000*100),2), '\\n')"
   ]
  },
  {
   "cell_type": "code",
   "execution_count": 799,
   "metadata": {},
   "outputs": [],
   "source": [
    "cash_pre = pd.DataFrame(cash.groupby('user_id')['order_id'].count()).reset_index()\n",
    "cash_pre.rename(columns = {'order_id': 'order_num_pay_by_cash'}, inplace = True)\n",
    "\n",
    "credit_pre = pd.DataFrame(credit.groupby('user_id')['order_id'].count()).reset_index()\n",
    "credit_pre.rename(columns = {'order_id': 'order_num_pay_by_credit'}, inplace = True)\n",
    "\n",
    "debit_pre = pd.DataFrame(debit.groupby('user_id')['order_id'].count()).reset_index()\n",
    "debit_pre.rename(columns = {'order_id': 'order_num_pay_by_debit'}, inplace = True)"
   ]
  },
  {
   "cell_type": "code",
   "execution_count": 800,
   "metadata": {},
   "outputs": [
    {
     "data": {
      "text/html": [
       "<div>\n",
       "<style scoped>\n",
       "    .dataframe tbody tr th:only-of-type {\n",
       "        vertical-align: middle;\n",
       "    }\n",
       "\n",
       "    .dataframe tbody tr th {\n",
       "        vertical-align: top;\n",
       "    }\n",
       "\n",
       "    .dataframe thead th {\n",
       "        text-align: right;\n",
       "    }\n",
       "</style>\n",
       "<table border=\"1\" class=\"dataframe\">\n",
       "  <thead>\n",
       "    <tr style=\"text-align: right;\">\n",
       "      <th></th>\n",
       "      <th>user_id</th>\n",
       "      <th>total_orders</th>\n",
       "      <th>order_num_pay_by_cash</th>\n",
       "      <th>order_num_pay_by_credit</th>\n",
       "      <th>order_num_pay_by_debit</th>\n",
       "    </tr>\n",
       "  </thead>\n",
       "  <tbody>\n",
       "    <tr>\n",
       "      <th>0</th>\n",
       "      <td>607</td>\n",
       "      <td>17</td>\n",
       "      <td>0.0</td>\n",
       "      <td>17</td>\n",
       "      <td>0.0</td>\n",
       "    </tr>\n",
       "    <tr>\n",
       "      <th>1</th>\n",
       "      <td>700</td>\n",
       "      <td>16</td>\n",
       "      <td>6.0</td>\n",
       "      <td>6</td>\n",
       "      <td>4.0</td>\n",
       "    </tr>\n",
       "    <tr>\n",
       "      <th>2</th>\n",
       "      <td>701</td>\n",
       "      <td>13</td>\n",
       "      <td>2.0</td>\n",
       "      <td>6</td>\n",
       "      <td>5.0</td>\n",
       "    </tr>\n",
       "    <tr>\n",
       "      <th>3</th>\n",
       "      <td>702</td>\n",
       "      <td>13</td>\n",
       "      <td>2.0</td>\n",
       "      <td>6</td>\n",
       "      <td>5.0</td>\n",
       "    </tr>\n",
       "    <tr>\n",
       "      <th>4</th>\n",
       "      <td>703</td>\n",
       "      <td>16</td>\n",
       "      <td>6.0</td>\n",
       "      <td>5</td>\n",
       "      <td>5.0</td>\n",
       "    </tr>\n",
       "    <tr>\n",
       "      <th>...</th>\n",
       "      <td>...</td>\n",
       "      <td>...</td>\n",
       "      <td>...</td>\n",
       "      <td>...</td>\n",
       "      <td>...</td>\n",
       "    </tr>\n",
       "    <tr>\n",
       "      <th>296</th>\n",
       "      <td>995</td>\n",
       "      <td>15</td>\n",
       "      <td>6.0</td>\n",
       "      <td>3</td>\n",
       "      <td>6.0</td>\n",
       "    </tr>\n",
       "    <tr>\n",
       "      <th>297</th>\n",
       "      <td>996</td>\n",
       "      <td>21</td>\n",
       "      <td>6.0</td>\n",
       "      <td>9</td>\n",
       "      <td>6.0</td>\n",
       "    </tr>\n",
       "    <tr>\n",
       "      <th>298</th>\n",
       "      <td>997</td>\n",
       "      <td>13</td>\n",
       "      <td>2.0</td>\n",
       "      <td>2</td>\n",
       "      <td>9.0</td>\n",
       "    </tr>\n",
       "    <tr>\n",
       "      <th>299</th>\n",
       "      <td>998</td>\n",
       "      <td>9</td>\n",
       "      <td>2.0</td>\n",
       "      <td>5</td>\n",
       "      <td>2.0</td>\n",
       "    </tr>\n",
       "    <tr>\n",
       "      <th>300</th>\n",
       "      <td>999</td>\n",
       "      <td>24</td>\n",
       "      <td>8.0</td>\n",
       "      <td>8</td>\n",
       "      <td>8.0</td>\n",
       "    </tr>\n",
       "  </tbody>\n",
       "</table>\n",
       "<p>301 rows × 5 columns</p>\n",
       "</div>"
      ],
      "text/plain": [
       "     user_id  total_orders  order_num_pay_by_cash  order_num_pay_by_credit  \\\n",
       "0        607            17                    0.0                       17   \n",
       "1        700            16                    6.0                        6   \n",
       "2        701            13                    2.0                        6   \n",
       "3        702            13                    2.0                        6   \n",
       "4        703            16                    6.0                        5   \n",
       "..       ...           ...                    ...                      ...   \n",
       "296      995            15                    6.0                        3   \n",
       "297      996            21                    6.0                        9   \n",
       "298      997            13                    2.0                        2   \n",
       "299      998             9                    2.0                        5   \n",
       "300      999            24                    8.0                        8   \n",
       "\n",
       "     order_num_pay_by_debit  \n",
       "0                       0.0  \n",
       "1                       4.0  \n",
       "2                       5.0  \n",
       "3                       5.0  \n",
       "4                       5.0  \n",
       "..                      ...  \n",
       "296                     6.0  \n",
       "297                     6.0  \n",
       "298                     9.0  \n",
       "299                     2.0  \n",
       "300                     8.0  \n",
       "\n",
       "[301 rows x 5 columns]"
      ]
     },
     "execution_count": 800,
     "metadata": {},
     "output_type": "execute_result"
    }
   ],
   "source": [
    "# merge three dataframes\n",
    "payment_pre = pd.merge(payment_pre, cash_pre, how = 'left', on = 'user_id')\n",
    "payment_pre = pd.merge(payment_pre, credit_pre, how = 'left', on = 'user_id')\n",
    "payment_pre = pd.merge(payment_pre, debit_pre, how = 'left', on = 'user_id')\n",
    "payment_pre = payment_pre.fillna(0)\n",
    "payment_pre"
   ]
  },
  {
   "cell_type": "code",
   "execution_count": 803,
   "metadata": {
    "scrolled": true
   },
   "outputs": [
    {
     "name": "stderr",
     "output_type": "stream",
     "text": [
      "/opt/anaconda3/lib/python3.7/site-packages/ipykernel_launcher.py:8: SettingWithCopyWarning: \n",
      "A value is trying to be set on a copy of a slice from a DataFrame.\n",
      "Try using .loc[row_indexer,col_indexer] = value instead\n",
      "\n",
      "See the caveats in the documentation: https://pandas.pydata.org/pandas-docs/stable/user_guide/indexing.html#returning-a-view-versus-a-copy\n",
      "  \n",
      "/opt/anaconda3/lib/python3.7/site-packages/ipykernel_launcher.py:10: SettingWithCopyWarning: \n",
      "A value is trying to be set on a copy of a slice from a DataFrame.\n",
      "Try using .loc[row_indexer,col_indexer] = value instead\n",
      "\n",
      "See the caveats in the documentation: https://pandas.pydata.org/pandas-docs/stable/user_guide/indexing.html#returning-a-view-versus-a-copy\n",
      "  # Remove the CWD from sys.path while we load stuff.\n",
      "/opt/anaconda3/lib/python3.7/site-packages/ipykernel_launcher.py:11: SettingWithCopyWarning: \n",
      "A value is trying to be set on a copy of a slice from a DataFrame.\n",
      "Try using .loc[row_indexer,col_indexer] = value instead\n",
      "\n",
      "See the caveats in the documentation: https://pandas.pydata.org/pandas-docs/stable/user_guide/indexing.html#returning-a-view-versus-a-copy\n",
      "  # This is added back by InteractiveShellApp.init_path()\n"
     ]
    },
    {
     "data": {
      "text/html": [
       "<div>\n",
       "<style scoped>\n",
       "    .dataframe tbody tr th:only-of-type {\n",
       "        vertical-align: middle;\n",
       "    }\n",
       "\n",
       "    .dataframe tbody tr th {\n",
       "        vertical-align: top;\n",
       "    }\n",
       "\n",
       "    .dataframe thead th {\n",
       "        text-align: right;\n",
       "    }\n",
       "</style>\n",
       "<table border=\"1\" class=\"dataframe\">\n",
       "  <thead>\n",
       "    <tr style=\"text-align: right;\">\n",
       "      <th></th>\n",
       "      <th>user_id</th>\n",
       "      <th>cash_ratio</th>\n",
       "      <th>credit_ratio</th>\n",
       "      <th>debit_ratio</th>\n",
       "      <th>preferred</th>\n",
       "      <th>cash_prefer</th>\n",
       "      <th>credit_prefer</th>\n",
       "      <th>debit_prefer</th>\n",
       "    </tr>\n",
       "  </thead>\n",
       "  <tbody>\n",
       "    <tr>\n",
       "      <th>0</th>\n",
       "      <td>607</td>\n",
       "      <td>0.000000</td>\n",
       "      <td>1.000000</td>\n",
       "      <td>0.000000</td>\n",
       "      <td>1.000000</td>\n",
       "      <td>NaN</td>\n",
       "      <td>NaN</td>\n",
       "      <td>NaN</td>\n",
       "    </tr>\n",
       "    <tr>\n",
       "      <th>1</th>\n",
       "      <td>700</td>\n",
       "      <td>0.375000</td>\n",
       "      <td>0.375000</td>\n",
       "      <td>0.250000</td>\n",
       "      <td>0.375000</td>\n",
       "      <td>NaN</td>\n",
       "      <td>NaN</td>\n",
       "      <td>NaN</td>\n",
       "    </tr>\n",
       "    <tr>\n",
       "      <th>2</th>\n",
       "      <td>701</td>\n",
       "      <td>0.153846</td>\n",
       "      <td>0.461538</td>\n",
       "      <td>0.384615</td>\n",
       "      <td>0.461538</td>\n",
       "      <td>NaN</td>\n",
       "      <td>NaN</td>\n",
       "      <td>NaN</td>\n",
       "    </tr>\n",
       "    <tr>\n",
       "      <th>3</th>\n",
       "      <td>702</td>\n",
       "      <td>0.153846</td>\n",
       "      <td>0.461538</td>\n",
       "      <td>0.384615</td>\n",
       "      <td>0.461538</td>\n",
       "      <td>NaN</td>\n",
       "      <td>NaN</td>\n",
       "      <td>NaN</td>\n",
       "    </tr>\n",
       "    <tr>\n",
       "      <th>4</th>\n",
       "      <td>703</td>\n",
       "      <td>0.375000</td>\n",
       "      <td>0.312500</td>\n",
       "      <td>0.312500</td>\n",
       "      <td>0.375000</td>\n",
       "      <td>NaN</td>\n",
       "      <td>NaN</td>\n",
       "      <td>NaN</td>\n",
       "    </tr>\n",
       "    <tr>\n",
       "      <th>...</th>\n",
       "      <td>...</td>\n",
       "      <td>...</td>\n",
       "      <td>...</td>\n",
       "      <td>...</td>\n",
       "      <td>...</td>\n",
       "      <td>...</td>\n",
       "      <td>...</td>\n",
       "      <td>...</td>\n",
       "    </tr>\n",
       "    <tr>\n",
       "      <th>296</th>\n",
       "      <td>995</td>\n",
       "      <td>0.400000</td>\n",
       "      <td>0.200000</td>\n",
       "      <td>0.400000</td>\n",
       "      <td>0.400000</td>\n",
       "      <td>NaN</td>\n",
       "      <td>NaN</td>\n",
       "      <td>NaN</td>\n",
       "    </tr>\n",
       "    <tr>\n",
       "      <th>297</th>\n",
       "      <td>996</td>\n",
       "      <td>0.285714</td>\n",
       "      <td>0.428571</td>\n",
       "      <td>0.285714</td>\n",
       "      <td>0.428571</td>\n",
       "      <td>NaN</td>\n",
       "      <td>NaN</td>\n",
       "      <td>NaN</td>\n",
       "    </tr>\n",
       "    <tr>\n",
       "      <th>298</th>\n",
       "      <td>997</td>\n",
       "      <td>0.153846</td>\n",
       "      <td>0.153846</td>\n",
       "      <td>0.692308</td>\n",
       "      <td>0.153846</td>\n",
       "      <td>NaN</td>\n",
       "      <td>NaN</td>\n",
       "      <td>NaN</td>\n",
       "    </tr>\n",
       "    <tr>\n",
       "      <th>299</th>\n",
       "      <td>998</td>\n",
       "      <td>0.222222</td>\n",
       "      <td>0.555556</td>\n",
       "      <td>0.222222</td>\n",
       "      <td>0.555556</td>\n",
       "      <td>NaN</td>\n",
       "      <td>NaN</td>\n",
       "      <td>NaN</td>\n",
       "    </tr>\n",
       "    <tr>\n",
       "      <th>300</th>\n",
       "      <td>999</td>\n",
       "      <td>0.333333</td>\n",
       "      <td>0.333333</td>\n",
       "      <td>0.333333</td>\n",
       "      <td>0.333333</td>\n",
       "      <td>NaN</td>\n",
       "      <td>NaN</td>\n",
       "      <td>NaN</td>\n",
       "    </tr>\n",
       "  </tbody>\n",
       "</table>\n",
       "<p>301 rows × 8 columns</p>\n",
       "</div>"
      ],
      "text/plain": [
       "     user_id  cash_ratio  credit_ratio  debit_ratio  preferred  cash_prefer  \\\n",
       "0        607    0.000000      1.000000     0.000000   1.000000          NaN   \n",
       "1        700    0.375000      0.375000     0.250000   0.375000          NaN   \n",
       "2        701    0.153846      0.461538     0.384615   0.461538          NaN   \n",
       "3        702    0.153846      0.461538     0.384615   0.461538          NaN   \n",
       "4        703    0.375000      0.312500     0.312500   0.375000          NaN   \n",
       "..       ...         ...           ...          ...        ...          ...   \n",
       "296      995    0.400000      0.200000     0.400000   0.400000          NaN   \n",
       "297      996    0.285714      0.428571     0.285714   0.428571          NaN   \n",
       "298      997    0.153846      0.153846     0.692308   0.153846          NaN   \n",
       "299      998    0.222222      0.555556     0.222222   0.555556          NaN   \n",
       "300      999    0.333333      0.333333     0.333333   0.333333          NaN   \n",
       "\n",
       "     credit_prefer  debit_prefer  \n",
       "0              NaN           NaN  \n",
       "1              NaN           NaN  \n",
       "2              NaN           NaN  \n",
       "3              NaN           NaN  \n",
       "4              NaN           NaN  \n",
       "..             ...           ...  \n",
       "296            NaN           NaN  \n",
       "297            NaN           NaN  \n",
       "298            NaN           NaN  \n",
       "299            NaN           NaN  \n",
       "300            NaN           NaN  \n",
       "\n",
       "[301 rows x 8 columns]"
      ]
     },
     "execution_count": 803,
     "metadata": {},
     "output_type": "execute_result"
    }
   ],
   "source": [
    "payment_pre['cash_ratio'] = payment_pre['order_num_pay_by_cash']/payment_pre['total_orders']\n",
    "payment_pre['credit_ratio'] = payment_pre['order_num_pay_by_credit']/payment_pre['total_orders']\n",
    "payment_pre['debit_ratio'] = payment_pre['order_num_pay_by_debit']/payment_pre['total_orders']\n",
    "\n",
    "payment_ratio = payment_pre[['user_id','cash_ratio','credit_ratio','debit_ratio']]\n",
    "payment_ratio\n",
    "\n",
    "payment_ratio['preferred'] = payment_ratio.iloc[:,1:3].max(axis = 1)\n",
    "\n",
    "payment_ratio['cash_prefer'] = np.nan\n",
    "payment_ratio['credit_prefer'] = np.nan\n",
    "payment_ratio['debit_prefer'] = np.nan\n",
    "\n",
    "payment_ratio"
   ]
  },
  {
   "cell_type": "code",
   "execution_count": 804,
   "metadata": {},
   "outputs": [
    {
     "name": "stderr",
     "output_type": "stream",
     "text": [
      "/opt/anaconda3/lib/python3.7/site-packages/pandas/core/indexing.py:670: SettingWithCopyWarning: \n",
      "A value is trying to be set on a copy of a slice from a DataFrame\n",
      "\n",
      "See the caveats in the documentation: https://pandas.pydata.org/pandas-docs/stable/user_guide/indexing.html#returning-a-view-versus-a-copy\n",
      "  self._setitem_with_indexer(indexer, value)\n"
     ]
    }
   ],
   "source": [
    "for i in range(301):\n",
    "    if payment_ratio['preferred'].iloc[i] == payment_ratio['cash_ratio'].iloc[i]:\n",
    "        payment_ratio['cash_prefer'].iloc[i] = 1\n",
    "    else:\n",
    "        payment_ratio['cash_prefer'].iloc[i] = 0\n",
    "    if payment_ratio['preferred'].iloc[i] == payment_ratio['credit_ratio'].iloc[i]:\n",
    "        payment_ratio['credit_prefer'].iloc[i] = 1\n",
    "    else:\n",
    "        payment_ratio['credit_prefer'].iloc[i] = 0\n",
    "    if payment_ratio['preferred'].iloc[i] == payment_ratio['debit_ratio'].iloc[i]:\n",
    "        payment_ratio['debit_prefer'].iloc[i] = 1\n",
    "    else:\n",
    "        payment_ratio['debit_prefer'].iloc[i] = 0"
   ]
  },
  {
   "cell_type": "code",
   "execution_count": 805,
   "metadata": {
    "scrolled": true
   },
   "outputs": [
    {
     "name": "stdout",
     "output_type": "stream",
     "text": [
      "52 percent of customers prefer to pay by cash\n",
      "59 percent of customers prefer to pay by credit card\n",
      "17 percdnt of customers prefer to pay by debit card\n"
     ]
    }
   ],
   "source": [
    "print('{} percent of customers prefer to pay by cash'.format(round(sum(payment_ratio['cash_prefer'])/301*100),2))\n",
    "print('{} percent of customers prefer to pay by credit card'.format(round(sum(payment_ratio['credit_prefer'])/301*100),2))\n",
    "print('{} percdnt of customers prefer to pay by debit card'.format(round(sum(payment_ratio['debit_prefer'])/301*100),2))"
   ]
  },
  {
   "cell_type": "markdown",
   "metadata": {},
   "source": [
    "<font  size=4 color = #5F9EA0> **Credit Card** is the most popular payment method, **Cash** comes second, and **Debit Card** is the least popular one. </font>\n",
    "<font  size=1 color = #5F9EA0>(Note that the percentage does not add up to 1 because one customer can have more than 1 favorite payment method)</font>"
   ]
  },
  {
   "cell_type": "markdown",
   "metadata": {},
   "source": [
    "## 2.2.2 Total Revenue of Three Payment Method"
   ]
  },
  {
   "cell_type": "code",
   "execution_count": 808,
   "metadata": {},
   "outputs": [
    {
     "data": {
      "text/plain": [
       "([<matplotlib.axis.XTick at 0x1a2adb9910>,\n",
       "  <matplotlib.axis.XTick at 0x1a2adb9090>,\n",
       "  <matplotlib.axis.XTick at 0x1a2adacd10>],\n",
       " <a list of 3 Text xticklabel objects>)"
      ]
     },
     "execution_count": 808,
     "metadata": {},
     "output_type": "execute_result"
    },
    {
     "data": {
      "image/png": "[encoded data removed]",
      "text/plain": [
       "<Figure size 432x288 with 1 Axes>"
      ]
     },
     "metadata": {
      "needs_background": "light"
     },
     "output_type": "display_data"
    }
   ],
   "source": [
    "payment_val = pd.DataFrame(data.groupby('payment_method')['order_amount'].sum())\n",
    "\n",
    "plt.bar(range(3),payment_val['order_amount'])\n",
    "plt.title('Total Revenue VS Payment Method')\n",
    "plt.ylabel('Total Revenue')\n",
    "plt.xlabel('Payment Method')\n",
    "plt.xticks(range(3),payment_val.index)"
   ]
  },
  {
   "cell_type": "markdown",
   "metadata": {},
   "source": [
    "<font  size=4 color = #5F9EA0> Most of the revenue made is paid by **Credit Card**. </font>"
   ]
  },
  {
   "cell_type": "markdown",
   "metadata": {},
   "source": [
    "## 2.2.3 Insight and Recommendations"
   ]
  },
  {
   "cell_type": "markdown",
   "metadata": {},
   "source": [
    "<font  size=4 color = black> **Insights about Payment Method** </font>\n",
    "\n",
    "<font  size=3 color = black> &#x25A0; **Credit Card** is the most popular payment method, **Cash** comes second, and **Debit Card** is the least popular one. </font>\n",
    "\n",
    "<font  size=3 color = black> &#x25A0; Most of the revenue made is paid by **Credit Card**. </font>\n",
    "\n",
    "<font  size=4 color = black> **Recommendations about Payment Method** </font>\n",
    "\n",
    "<font  size=3 color = black> &#x25A0; The payment methods provided are a bit old-school and limites, adding new payment methods such as **e-wallets** can improve revenue, according to researches. </font>\n",
    "\n",
    "<font  size=4 color = black> **Reference:**</font>\n",
    "\n",
    "<font  size=4 color = black> North America—Credit cards top the list of commonly used payment methods, at **34%** in 2018, but will fall to second place in 2022 **(27%)**, after eWallets **(33%)**. (https://home.bluesnap.com/snap-center/blog/payment-method-statistics/) </font>"
   ]
  },
  {
   "cell_type": "markdown",
   "metadata": {},
   "source": [
    "\n",
    "## 2.3 Retention Analysis"
   ]
  },
  {
   "cell_type": "markdown",
   "metadata": {},
   "source": [
    "<font  size=4 color = #5F9EA0> Retention analysis is calculated over a period of time and serves as a vital supplement to new-user acquisition metrics. </font>"
   ]
  },
  {
   "cell_type": "code",
   "execution_count": 810,
   "metadata": {
    "scrolled": true
   },
   "outputs": [
    {
     "data": {
      "text/html": [
       "<div>\n",
       "<style scoped>\n",
       "    .dataframe tbody tr th:only-of-type {\n",
       "        vertical-align: middle;\n",
       "    }\n",
       "\n",
       "    .dataframe tbody tr th {\n",
       "        vertical-align: top;\n",
       "    }\n",
       "\n",
       "    .dataframe thead th {\n",
       "        text-align: right;\n",
       "    }\n",
       "</style>\n",
       "<table border=\"1\" class=\"dataframe\">\n",
       "  <thead>\n",
       "    <tr style=\"text-align: right;\">\n",
       "      <th></th>\n",
       "      <th>order_id</th>\n",
       "      <th>item_id</th>\n",
       "      <th>user_id</th>\n",
       "      <th>order_amount</th>\n",
       "      <th>total_items</th>\n",
       "      <th>payment_method</th>\n",
       "      <th>created_at</th>\n",
       "      <th>item_price</th>\n",
       "    </tr>\n",
       "  </thead>\n",
       "  <tbody>\n",
       "    <tr>\n",
       "      <th>0</th>\n",
       "      <td>1</td>\n",
       "      <td>53</td>\n",
       "      <td>746</td>\n",
       "      <td>224</td>\n",
       "      <td>2</td>\n",
       "      <td>cash</td>\n",
       "      <td>2017-03-13 12:36:00</td>\n",
       "      <td>112.0</td>\n",
       "    </tr>\n",
       "    <tr>\n",
       "      <th>1</th>\n",
       "      <td>2</td>\n",
       "      <td>92</td>\n",
       "      <td>925</td>\n",
       "      <td>90</td>\n",
       "      <td>1</td>\n",
       "      <td>cash</td>\n",
       "      <td>2017-03-03 17:38:00</td>\n",
       "      <td>90.0</td>\n",
       "    </tr>\n",
       "    <tr>\n",
       "      <th>2</th>\n",
       "      <td>3</td>\n",
       "      <td>44</td>\n",
       "      <td>861</td>\n",
       "      <td>144</td>\n",
       "      <td>1</td>\n",
       "      <td>cash</td>\n",
       "      <td>2017-03-14 04:23:00</td>\n",
       "      <td>144.0</td>\n",
       "    </tr>\n",
       "    <tr>\n",
       "      <th>3</th>\n",
       "      <td>4</td>\n",
       "      <td>18</td>\n",
       "      <td>935</td>\n",
       "      <td>156</td>\n",
       "      <td>1</td>\n",
       "      <td>credit_card</td>\n",
       "      <td>2017-03-26 12:43:00</td>\n",
       "      <td>156.0</td>\n",
       "    </tr>\n",
       "    <tr>\n",
       "      <th>4</th>\n",
       "      <td>5</td>\n",
       "      <td>18</td>\n",
       "      <td>883</td>\n",
       "      <td>156</td>\n",
       "      <td>1</td>\n",
       "      <td>credit_card</td>\n",
       "      <td>2017-03-01 04:35:00</td>\n",
       "      <td>156.0</td>\n",
       "    </tr>\n",
       "    <tr>\n",
       "      <th>...</th>\n",
       "      <td>...</td>\n",
       "      <td>...</td>\n",
       "      <td>...</td>\n",
       "      <td>...</td>\n",
       "      <td>...</td>\n",
       "      <td>...</td>\n",
       "      <td>...</td>\n",
       "      <td>...</td>\n",
       "    </tr>\n",
       "    <tr>\n",
       "      <th>4995</th>\n",
       "      <td>4996</td>\n",
       "      <td>73</td>\n",
       "      <td>993</td>\n",
       "      <td>330</td>\n",
       "      <td>2</td>\n",
       "      <td>debit</td>\n",
       "      <td>2017-03-30 13:47:00</td>\n",
       "      <td>165.0</td>\n",
       "    </tr>\n",
       "    <tr>\n",
       "      <th>4996</th>\n",
       "      <td>4997</td>\n",
       "      <td>48</td>\n",
       "      <td>789</td>\n",
       "      <td>234</td>\n",
       "      <td>2</td>\n",
       "      <td>cash</td>\n",
       "      <td>2017-03-16 20:36:00</td>\n",
       "      <td>117.0</td>\n",
       "    </tr>\n",
       "    <tr>\n",
       "      <th>4997</th>\n",
       "      <td>4998</td>\n",
       "      <td>56</td>\n",
       "      <td>867</td>\n",
       "      <td>351</td>\n",
       "      <td>3</td>\n",
       "      <td>cash</td>\n",
       "      <td>2017-03-19 05:42:00</td>\n",
       "      <td>117.0</td>\n",
       "    </tr>\n",
       "    <tr>\n",
       "      <th>4998</th>\n",
       "      <td>4999</td>\n",
       "      <td>60</td>\n",
       "      <td>825</td>\n",
       "      <td>354</td>\n",
       "      <td>2</td>\n",
       "      <td>credit_card</td>\n",
       "      <td>2017-03-16 14:51:00</td>\n",
       "      <td>177.0</td>\n",
       "    </tr>\n",
       "    <tr>\n",
       "      <th>4999</th>\n",
       "      <td>5000</td>\n",
       "      <td>44</td>\n",
       "      <td>734</td>\n",
       "      <td>288</td>\n",
       "      <td>2</td>\n",
       "      <td>debit</td>\n",
       "      <td>2017-03-18 15:48:00</td>\n",
       "      <td>144.0</td>\n",
       "    </tr>\n",
       "  </tbody>\n",
       "</table>\n",
       "<p>5000 rows × 8 columns</p>\n",
       "</div>"
      ],
      "text/plain": [
       "     order_id item_id user_id  order_amount  total_items payment_method  \\\n",
       "0           1      53     746           224            2           cash   \n",
       "1           2      92     925            90            1           cash   \n",
       "2           3      44     861           144            1           cash   \n",
       "3           4      18     935           156            1    credit_card   \n",
       "4           5      18     883           156            1    credit_card   \n",
       "...       ...     ...     ...           ...          ...            ...   \n",
       "4995     4996      73     993           330            2          debit   \n",
       "4996     4997      48     789           234            2           cash   \n",
       "4997     4998      56     867           351            3           cash   \n",
       "4998     4999      60     825           354            2    credit_card   \n",
       "4999     5000      44     734           288            2          debit   \n",
       "\n",
       "              created_at  item_price  \n",
       "0    2017-03-13 12:36:00       112.0  \n",
       "1    2017-03-03 17:38:00        90.0  \n",
       "2    2017-03-14 04:23:00       144.0  \n",
       "3    2017-03-26 12:43:00       156.0  \n",
       "4    2017-03-01 04:35:00       156.0  \n",
       "...                  ...         ...  \n",
       "4995 2017-03-30 13:47:00       165.0  \n",
       "4996 2017-03-16 20:36:00       117.0  \n",
       "4997 2017-03-19 05:42:00       117.0  \n",
       "4998 2017-03-16 14:51:00       177.0  \n",
       "4999 2017-03-18 15:48:00       144.0  \n",
       "\n",
       "[5000 rows x 8 columns]"
      ]
     },
     "execution_count": 810,
     "metadata": {},
     "output_type": "execute_result"
    }
   ],
   "source": [
    "retention = data.copy()\n",
    "retention"
   ]
  },
  {
   "cell_type": "markdown",
   "metadata": {},
   "source": [
    "## 2.3.1 Monthly Retention Rate"
   ]
  },
  {
   "cell_type": "code",
   "execution_count": 812,
   "metadata": {},
   "outputs": [
    {
     "data": {
      "text/html": [
       "<div>\n",
       "<style scoped>\n",
       "    .dataframe tbody tr th:only-of-type {\n",
       "        vertical-align: middle;\n",
       "    }\n",
       "\n",
       "    .dataframe tbody tr th {\n",
       "        vertical-align: top;\n",
       "    }\n",
       "\n",
       "    .dataframe thead th {\n",
       "        text-align: right;\n",
       "    }\n",
       "</style>\n",
       "<table border=\"1\" class=\"dataframe\">\n",
       "  <thead>\n",
       "    <tr style=\"text-align: right;\">\n",
       "      <th></th>\n",
       "      <th>user_id</th>\n",
       "      <th>first_transaction_date</th>\n",
       "      <th>last_transaction_date</th>\n",
       "    </tr>\n",
       "  </thead>\n",
       "  <tbody>\n",
       "    <tr>\n",
       "      <th>0</th>\n",
       "      <td>607</td>\n",
       "      <td>2017-03-02 04:00:00</td>\n",
       "      <td>2017-03-28 04:00:00</td>\n",
       "    </tr>\n",
       "    <tr>\n",
       "      <th>1</th>\n",
       "      <td>700</td>\n",
       "      <td>2017-03-07 18:00:00</td>\n",
       "      <td>2017-03-30 23:55:00</td>\n",
       "    </tr>\n",
       "    <tr>\n",
       "      <th>2</th>\n",
       "      <td>701</td>\n",
       "      <td>2017-03-01 07:14:00</td>\n",
       "      <td>2017-03-27 13:54:00</td>\n",
       "    </tr>\n",
       "    <tr>\n",
       "      <th>3</th>\n",
       "      <td>702</td>\n",
       "      <td>2017-03-01 18:39:00</td>\n",
       "      <td>2017-03-29 07:10:00</td>\n",
       "    </tr>\n",
       "    <tr>\n",
       "      <th>4</th>\n",
       "      <td>703</td>\n",
       "      <td>2017-03-02 06:27:00</td>\n",
       "      <td>2017-03-29 10:25:00</td>\n",
       "    </tr>\n",
       "    <tr>\n",
       "      <th>...</th>\n",
       "      <td>...</td>\n",
       "      <td>...</td>\n",
       "      <td>...</td>\n",
       "    </tr>\n",
       "    <tr>\n",
       "      <th>296</th>\n",
       "      <td>995</td>\n",
       "      <td>2017-03-03 11:48:00</td>\n",
       "      <td>2017-03-28 06:53:00</td>\n",
       "    </tr>\n",
       "    <tr>\n",
       "      <th>297</th>\n",
       "      <td>996</td>\n",
       "      <td>2017-03-01 13:27:00</td>\n",
       "      <td>2017-03-29 05:48:00</td>\n",
       "    </tr>\n",
       "    <tr>\n",
       "      <th>298</th>\n",
       "      <td>997</td>\n",
       "      <td>2017-03-02 04:00:00</td>\n",
       "      <td>2017-03-26 16:40:00</td>\n",
       "    </tr>\n",
       "    <tr>\n",
       "      <th>299</th>\n",
       "      <td>998</td>\n",
       "      <td>2017-03-04 23:58:00</td>\n",
       "      <td>2017-03-28 09:56:00</td>\n",
       "    </tr>\n",
       "    <tr>\n",
       "      <th>300</th>\n",
       "      <td>999</td>\n",
       "      <td>2017-03-01 12:04:00</td>\n",
       "      <td>2017-03-28 05:46:00</td>\n",
       "    </tr>\n",
       "  </tbody>\n",
       "</table>\n",
       "<p>301 rows × 3 columns</p>\n",
       "</div>"
      ],
      "text/plain": [
       "     user_id first_transaction_date last_transaction_date\n",
       "0        607    2017-03-02 04:00:00   2017-03-28 04:00:00\n",
       "1        700    2017-03-07 18:00:00   2017-03-30 23:55:00\n",
       "2        701    2017-03-01 07:14:00   2017-03-27 13:54:00\n",
       "3        702    2017-03-01 18:39:00   2017-03-29 07:10:00\n",
       "4        703    2017-03-02 06:27:00   2017-03-29 10:25:00\n",
       "..       ...                    ...                   ...\n",
       "296      995    2017-03-03 11:48:00   2017-03-28 06:53:00\n",
       "297      996    2017-03-01 13:27:00   2017-03-29 05:48:00\n",
       "298      997    2017-03-02 04:00:00   2017-03-26 16:40:00\n",
       "299      998    2017-03-04 23:58:00   2017-03-28 09:56:00\n",
       "300      999    2017-03-01 12:04:00   2017-03-28 05:46:00\n",
       "\n",
       "[301 rows x 3 columns]"
      ]
     },
     "execution_count": 812,
     "metadata": {},
     "output_type": "execute_result"
    }
   ],
   "source": [
    "first_transaction = pd.DataFrame(retention.groupby('user_id')['created_at'].min()).reset_index()\n",
    "first_transaction.rename(columns = {'created_at':'first_transaction_date'}, inplace = True)\n",
    "\n",
    "last_transaction = pd.DataFrame(retention.groupby('user_id')['created_at'].max()).reset_index()\n",
    "last_transaction.rename(columns = {'created_at':'last_transaction_date'}, inplace = True)\n",
    "\n",
    "retention = pd.merge(first_transaction, last_transaction, how = 'inner', on = 'user_id')\n",
    "retention"
   ]
  },
  {
   "cell_type": "code",
   "execution_count": 350,
   "metadata": {
    "scrolled": true
   },
   "outputs": [
    {
     "data": {
      "text/html": [
       "<div>\n",
       "<style scoped>\n",
       "    .dataframe tbody tr th:only-of-type {\n",
       "        vertical-align: middle;\n",
       "    }\n",
       "\n",
       "    .dataframe tbody tr th {\n",
       "        vertical-align: top;\n",
       "    }\n",
       "\n",
       "    .dataframe thead th {\n",
       "        text-align: right;\n",
       "    }\n",
       "</style>\n",
       "<table border=\"1\" class=\"dataframe\">\n",
       "  <thead>\n",
       "    <tr style=\"text-align: right;\">\n",
       "      <th></th>\n",
       "      <th>user_id</th>\n",
       "      <th>first_transaction_date</th>\n",
       "      <th>last_transaction_date</th>\n",
       "      <th>datediff</th>\n",
       "    </tr>\n",
       "  </thead>\n",
       "  <tbody>\n",
       "    <tr>\n",
       "      <th>225</th>\n",
       "      <td>924</td>\n",
       "      <td>2017-03-01</td>\n",
       "      <td>2017-03-18</td>\n",
       "      <td>16</td>\n",
       "    </tr>\n",
       "    <tr>\n",
       "      <th>174</th>\n",
       "      <td>873</td>\n",
       "      <td>2017-03-01</td>\n",
       "      <td>2017-03-21</td>\n",
       "      <td>20</td>\n",
       "    </tr>\n",
       "    <tr>\n",
       "      <th>117</th>\n",
       "      <td>816</td>\n",
       "      <td>2017-03-01</td>\n",
       "      <td>2017-03-22</td>\n",
       "      <td>21</td>\n",
       "    </tr>\n",
       "    <tr>\n",
       "      <th>228</th>\n",
       "      <td>927</td>\n",
       "      <td>2017-03-01</td>\n",
       "      <td>2017-03-23</td>\n",
       "      <td>21</td>\n",
       "    </tr>\n",
       "    <tr>\n",
       "      <th>31</th>\n",
       "      <td>730</td>\n",
       "      <td>2017-03-01</td>\n",
       "      <td>2017-03-24</td>\n",
       "      <td>22</td>\n",
       "    </tr>\n",
       "    <tr>\n",
       "      <th>...</th>\n",
       "      <td>...</td>\n",
       "      <td>...</td>\n",
       "      <td>...</td>\n",
       "      <td>...</td>\n",
       "    </tr>\n",
       "    <tr>\n",
       "      <th>158</th>\n",
       "      <td>857</td>\n",
       "      <td>2017-03-01</td>\n",
       "      <td>2017-03-30</td>\n",
       "      <td>29</td>\n",
       "    </tr>\n",
       "    <tr>\n",
       "      <th>60</th>\n",
       "      <td>759</td>\n",
       "      <td>2017-03-01</td>\n",
       "      <td>2017-03-30</td>\n",
       "      <td>29</td>\n",
       "    </tr>\n",
       "    <tr>\n",
       "      <th>188</th>\n",
       "      <td>887</td>\n",
       "      <td>2017-03-01</td>\n",
       "      <td>2017-03-30</td>\n",
       "      <td>29</td>\n",
       "    </tr>\n",
       "    <tr>\n",
       "      <th>9</th>\n",
       "      <td>708</td>\n",
       "      <td>2017-03-01</td>\n",
       "      <td>2017-03-30</td>\n",
       "      <td>29</td>\n",
       "    </tr>\n",
       "    <tr>\n",
       "      <th>116</th>\n",
       "      <td>815</td>\n",
       "      <td>2017-03-01</td>\n",
       "      <td>2017-03-30</td>\n",
       "      <td>29</td>\n",
       "    </tr>\n",
       "  </tbody>\n",
       "</table>\n",
       "<p>131 rows × 4 columns</p>\n",
       "</div>"
      ],
      "text/plain": [
       "     user_id first_transaction_date last_transaction_date datediff\n",
       "225      924             2017-03-01            2017-03-18       16\n",
       "174      873             2017-03-01            2017-03-21       20\n",
       "117      816             2017-03-01            2017-03-22       21\n",
       "228      927             2017-03-01            2017-03-23       21\n",
       "31       730             2017-03-01            2017-03-24       22\n",
       "..       ...                    ...                   ...      ...\n",
       "158      857             2017-03-01            2017-03-30       29\n",
       "60       759             2017-03-01            2017-03-30       29\n",
       "188      887             2017-03-01            2017-03-30       29\n",
       "9        708             2017-03-01            2017-03-30       29\n",
       "116      815             2017-03-01            2017-03-30       29\n",
       "\n",
       "[131 rows x 4 columns]"
      ]
     },
     "execution_count": 350,
     "metadata": {},
     "output_type": "execute_result"
    }
   ],
   "source": [
    "# number of customers at the start of the month\n",
    "start = retention[retention['first_transaction_date'] == '2017-03-01']\n",
    "\n",
    "# number of customers remaining at the end of the month\n",
    "end = start[start['last_transaction_date'] == '2017-03-30']"
   ]
  },
  {
   "cell_type": "code",
   "execution_count": 814,
   "metadata": {},
   "outputs": [
    {
     "data": {
      "text/plain": [
       "(131, 4)"
      ]
     },
     "execution_count": 814,
     "metadata": {},
     "output_type": "execute_result"
    }
   ],
   "source": [
    "start.shape"
   ]
  },
  {
   "cell_type": "code",
   "execution_count": 815,
   "metadata": {},
   "outputs": [
    {
     "data": {
      "text/plain": [
       "(46, 4)"
      ]
     },
     "execution_count": 815,
     "metadata": {},
     "output_type": "execute_result"
    }
   ],
   "source": [
    "end.shape"
   ]
  },
  {
   "cell_type": "code",
   "execution_count": 818,
   "metadata": {},
   "outputs": [
    {
     "name": "stdout",
     "output_type": "stream",
     "text": [
      "the monthly retention rate is 0.35\n"
     ]
    }
   ],
   "source": [
    "# monthly retention rate \n",
    "print('the monthly retention rate is', round(46/131,2))"
   ]
  },
  {
   "cell_type": "markdown",
   "metadata": {},
   "source": [
    "<font  size=4 color = #5F9EA0> A retention rate of 0.35 means that for out of 100 customers, only 35 of them will come back after one month. </font>"
   ]
  },
  {
   "cell_type": "markdown",
   "metadata": {},
   "source": [
    "## 2.3.2  Weekly Retention Rate"
   ]
  },
  {
   "cell_type": "code",
   "execution_count": 819,
   "metadata": {},
   "outputs": [],
   "source": [
    "data.created_at = pd.Series(data.created_at.map(lambda x: x.strftime('%Y-%m-%d')))\n",
    "\n",
    "user_1st = pd.DataFrame(data[data['created_at'] == '2017-03-01']['user_id'])\n",
    "user_1st.rename(columns = {'0':'user_id'}, inplace = True)"
   ]
  },
  {
   "cell_type": "code",
   "execution_count": 825,
   "metadata": {},
   "outputs": [
    {
     "name": "stdout",
     "output_type": "stream",
     "text": [
      "There are 131 users on 2017-03-01. \n",
      "\n",
      "There are 60 users on 2017-03-07.\n",
      "The retention rate on 2017-03-07 is 0.458. \n",
      "\n",
      "There are 57 users on 2017-03-14.\n",
      "The retention rate on 2017-03-14 is 0.4351. \n",
      "\n",
      "There are 59 users on 2017-03-21.\n",
      "The retention rate on 2017-03-21 is 0.4504. \n",
      "\n",
      "There are 46 users on 2017-03-30.\n",
      "The retention rate on 2017-03-30 is 0.3511.\n"
     ]
    }
   ],
   "source": [
    "user_1st_detail = pd.merge(user_1st, data, on = 'user_id')\n",
    "\n",
    "user_7th = user_1st_detail[user_1st_detail['created_at'] == '2017-03-07']\n",
    "\n",
    "print(\"There are {} users on 2017-03-01.\".format(len(user_1st['user_id'].unique())), '\\n')\n",
    "\n",
    "print(\"There are {} users on 2017-03-07.\".format(len(user_7th['user_id'].unique())))\n",
    "print(\"The retention rate on 2017-03-07 is {}.\".format(round(len(user_7th['user_id'].unique())/131,4)), '\\n')\n",
    "\n",
    "user_14th = user_1st_detail[user_1st_detail['created_at'] == '2017-03-14']\n",
    "print(\"There are {} users on 2017-03-14.\".format(len(user_14th['user_id'].unique())))\n",
    "print(\"The retention rate on 2017-03-14 is {}.\".format(round(len(user_14th['user_id'].unique())/131,4)), '\\n')\n",
    "\n",
    "user_21th = user_1st_detail[user_1st_detail['created_at'] == '2017-03-21']\n",
    "print(\"There are {} users on 2017-03-21.\".format(len(user_21th['user_id'].unique())))\n",
    "print(\"The retention rate on 2017-03-21 is {}.\".format(round(len(user_21th['user_id'].unique())/131,4)), '\\n')\n",
    "\n",
    "user_30th = user_1st_detail[user_1st_detail['created_at'] == '2017-03-30']\n",
    "print(\"There are {} users on 2017-03-30.\".format(len(user_30th['user_id'].unique())))\n",
    "print(\"The retention rate on 2017-03-30 is {}.\".format(round(len(user_30th['user_id'].unique())/131,4)))"
   ]
  },
  {
   "cell_type": "code",
   "execution_count": 746,
   "metadata": {},
   "outputs": [
    {
     "data": {
      "text/plain": [
       "([<matplotlib.axis.XTick at 0x123d42410>,\n",
       "  <matplotlib.axis.XTick at 0x123d32b90>,\n",
       "  <matplotlib.axis.XTick at 0x123d32050>,\n",
       "  <matplotlib.axis.XTick at 0x123961810>],\n",
       " <a list of 4 Text xticklabel objects>)"
      ]
     },
     "execution_count": 746,
     "metadata": {},
     "output_type": "execute_result"
    },
    {
     "data": {
      "image/png": "[encoded data removed]",
      "text/plain": [
       "<Figure size 432x288 with 1 Axes>"
      ]
     },
     "metadata": {
      "needs_background": "light"
     },
     "output_type": "display_data"
    }
   ],
   "source": [
    "plt.title('Weekly Retention Rate Trend')\n",
    "plt.plot(range(4), [0.458, 0.4351, 0.4504, 0.3511], color = 'orange')\n",
    "plt.xticks(range(4),['first week', 'second week', 'third week', 'forth week'])"
   ]
  },
  {
   "cell_type": "markdown",
   "metadata": {},
   "source": [
    "## 2.3.3  Insights and Recommendations"
   ]
  },
  {
   "cell_type": "markdown",
   "metadata": {},
   "source": [
    "<font  size=4 color = black> **Insights about Retention** </font>\n",
    "\n",
    "<font  size=3 color = black> &#x25A0; The monthly retention rate is 0.35, which is relatively low. </font>\n",
    "\n",
    "<font  size=3 color = black> &#x25A0; Weekly retention rate drops drastically from the third week to the forth week.. </font>\n",
    "\n",
    "<font  size=4 color = black> **Recommendations about Retention** </font>\n",
    "\n",
    "<font  size=3 color = black> &#x25A0; Methods need to be taken to improve retention rate, especially at the third week in a month interval. Common strategies: email marketing, offer reward program, customer experience customization, etc. Which strategy to take needs more background knowledge about the company and the business context as well. </font>\n"
   ]
  }
 ],
 "metadata": {
  "kernelspec": {
   "display_name": "Python 3",
   "language": "python",
   "name": "python3"
  },
  "language_info": {
   "codemirror_mode": {
    "name": "ipython",
    "version": 3
   },
   "file_extension": ".py",
   "mimetype": "text/x-python",
   "name": "python",
   "nbconvert_exporter": "python",
   "pygments_lexer": "ipython3",
   "version": "3.7.6"
  }
 },
 "nbformat": 4,
 "nbformat_minor": 4
}
